{
  "nbformat": 4,
  "nbformat_minor": 0,
  "metadata": {
    "accelerator": "GPU",
    "colab": {
      "name": "Pre-processed_CTScans_for_Morbidity_Covid19_Classification_ResNet50.ipynb",
      "provenance": [],
      "collapsed_sections": [
        "uRGOWfVmv4AQ",
        "YGuQmOQVwIDJ",
        "MBJ2NljFwRx1",
        "fJkyzMqvMjyp",
        "eeYpuBBe-TzK"
      ],
      "toc_visible": true
    },
    "kernelspec": {
      "display_name": "Python 3",
      "name": "python3"
    }
  },
  "cells": [
    {
      "cell_type": "markdown",
      "metadata": {
        "id": "t4UcDXd4vhXr"
      },
      "source": [
        "# Mengimpor Dataset dari Google Drive"
      ]
    },
    {
      "cell_type": "code",
      "metadata": {
        "colab": {
          "base_uri": "https://localhost:8080/"
        },
        "id": "V0NpYNMFxs55",
        "outputId": "ab8680ba-fe58-475f-9b23-e36a3861fd35"
      },
      "source": [
        "from google.colab import drive\n",
        "drive.mount('/content/gdrive')"
      ],
      "execution_count": null,
      "outputs": [
        {
          "output_type": "stream",
          "text": [
            "Mounted at /content/gdrive\n"
          ],
          "name": "stdout"
        }
      ]
    },
    {
      "cell_type": "markdown",
      "metadata": {
        "id": "r-qyXnKFMIHj"
      },
      "source": [
        "# Mengimpor fungsi library"
      ]
    },
    {
      "cell_type": "code",
      "metadata": {
        "id": "o3KGazgCxy4H"
      },
      "source": [
        "from __future__ import absolute_import, division, print_function, unicode_literals\n",
        "\n",
        "try:\n",
        "  # The %tensorflow_version magic only works in colab.\n",
        "  %tensorflow_version 2.x\n",
        "except Exception:\n",
        "  pass\n",
        "import numpy as np \n",
        "import math, os, sys\n",
        "import itertools\n",
        "import os\n",
        "\n",
        "import matplotlib.pyplot as plt\n",
        "plt.style.use('default')\n",
        "from scipy import ndimage\n",
        "\n",
        "from skimage import measure, morphology\n",
        "from skimage.io import imsave, imread\n",
        "from skimage.filters import threshold_otsu\n",
        "from skimage.transform import resize\n",
        "from skimage import io \n",
        "from skimage.transform import rotate, AffineTransform, warp\n",
        "from skimage import img_as_ubyte\n",
        "from skimage.util import random_noise\n",
        "\n",
        "import tensorflow as tf\n",
        "from sklearn import svm, datasets\n",
        "from sklearn.metrics import confusion_matrix\n",
        "import pandas as pd\n",
        "\n",
        "import random"
      ],
      "execution_count": null,
      "outputs": []
    },
    {
      "cell_type": "markdown",
      "metadata": {
        "id": "Vjr6CepIvxlP"
      },
      "source": [
        "# Membuat Dataframe untuk Dataset"
      ]
    },
    {
      "cell_type": "code",
      "metadata": {
        "id": "4hdNthFMMAmA"
      },
      "source": [
        "mypath= '/content/gdrive/Shareddrives/Soedirman-Machine-Learning/CT SCAN COVID-19/New Risk (pre-process)'\n",
        "\n",
        "file_name = []\n",
        "tag = []\n",
        "full_path = []\n",
        "for path, subdirs, files in os.walk(mypath):\n",
        "    for name in files:\n",
        "        full_path.append(os.path.join(path, name)) \n",
        "        tag.append(path.split('/')[-1])        \n",
        "        file_name.append(name)"
      ],
      "execution_count": null,
      "outputs": []
    },
    {
      "cell_type": "code",
      "metadata": {
        "colab": {
          "base_uri": "https://localhost:8080/"
        },
        "id": "RIxRFpLwMCFx",
        "outputId": "e4a235b0-30fa-4f5f-c5a1-8d6301d4169d"
      },
      "source": [
        "# memasukan variabel yang sudah dikumpulkan pada looping di atas menjadi sebuah dataframe agar rapih\n",
        "df = pd.DataFrame({\"path\":full_path,'file_name':file_name,\"tag\":tag})\n",
        "df.groupby(['tag']).size()"
      ],
      "execution_count": null,
      "outputs": [
        {
          "output_type": "execute_result",
          "data": {
            "text/plain": [
              "tag\n",
              "Control    506\n",
              "Type I     572\n",
              "Type II    500\n",
              "dtype: int64"
            ]
          },
          "metadata": {
            "tags": []
          },
          "execution_count": 4
        }
      ]
    },
    {
      "cell_type": "markdown",
      "metadata": {
        "id": "uRGOWfVmv4AQ"
      },
      "source": [
        "# Membagi Dataset ke dalam Bentuk Train Data dan Test Data"
      ]
    },
    {
      "cell_type": "code",
      "metadata": {
        "id": "rZu76IuoMHMd"
      },
      "source": [
        "#load library untuk train test split\n",
        "from sklearn.model_selection import train_test_split\n",
        "\n",
        "#variabel yang digunakan pada pemisahan data ini\n",
        "X= df['path']\n",
        "y= df['tag']\n",
        "\n",
        "# split dataset awal menjadi data train dan test\n",
        "X_train, X_test, y_train, y_test = train_test_split(\n",
        "    X, y, test_size=0.2, random_state=300)"
      ],
      "execution_count": null,
      "outputs": []
    },
    {
      "cell_type": "code",
      "metadata": {
        "id": "Wt6YT9pgMYKt"
      },
      "source": [
        "# menyatukan kedalam masing-masing dataframe\n",
        "\n",
        "df_tr = pd.DataFrame({'path':X_train\n",
        "              ,'tag':y_train\n",
        "             ,'set':'train'})\n",
        "\n",
        "df_te = pd.DataFrame({'path':X_test\n",
        "              ,'tag':y_test\n",
        "             ,'set':'test'})"
      ],
      "execution_count": null,
      "outputs": []
    },
    {
      "cell_type": "code",
      "metadata": {
        "colab": {
          "base_uri": "https://localhost:8080/"
        },
        "id": "BietD972Mega",
        "outputId": "51b21ea4-34f0-4a17-d698-5541498ec736"
      },
      "source": [
        "print('train size', len(df_tr))\n",
        "print('test size', len(df_te))"
      ],
      "execution_count": null,
      "outputs": [
        {
          "output_type": "stream",
          "text": [
            "train size 1262\n",
            "test size 316\n"
          ],
          "name": "stdout"
        }
      ]
    },
    {
      "cell_type": "code",
      "metadata": {
        "colab": {
          "base_uri": "https://localhost:8080/"
        },
        "id": "J_LEwNOWMnxX",
        "outputId": "77fe5ec4-1880-40cd-9941-4de18a9aec30"
      },
      "source": [
        "# melihat proporsi pada masing masing set apakah sudah ok atau masih ada yang ingin diubah\n",
        "df_all = df_tr.append([df_te]).reset_index(drop=1)\\\n",
        "\n",
        "print('===================================================== \\n')\n",
        "print(df_all.groupby(['set','tag']).size(),'\\n')\n",
        "\n",
        "print('===================================================== \\n')\n",
        "\n",
        "#cek sample datanya\n",
        "df_all.sample(3)"
      ],
      "execution_count": null,
      "outputs": [
        {
          "output_type": "stream",
          "text": [
            "===================================================== \n",
            "\n",
            "set    tag    \n",
            "test   Control    107\n",
            "       Type I     111\n",
            "       Type II     98\n",
            "train  Control    399\n",
            "       Type I     461\n",
            "       Type II    402\n",
            "dtype: int64 \n",
            "\n",
            "===================================================== \n",
            "\n"
          ],
          "name": "stdout"
        },
        {
          "output_type": "execute_result",
          "data": {
            "text/html": [
              "<div>\n",
              "<style scoped>\n",
              "    .dataframe tbody tr th:only-of-type {\n",
              "        vertical-align: middle;\n",
              "    }\n",
              "\n",
              "    .dataframe tbody tr th {\n",
              "        vertical-align: top;\n",
              "    }\n",
              "\n",
              "    .dataframe thead th {\n",
              "        text-align: right;\n",
              "    }\n",
              "</style>\n",
              "<table border=\"1\" class=\"dataframe\">\n",
              "  <thead>\n",
              "    <tr style=\"text-align: right;\">\n",
              "      <th></th>\n",
              "      <th>path</th>\n",
              "      <th>tag</th>\n",
              "      <th>set</th>\n",
              "    </tr>\n",
              "  </thead>\n",
              "  <tbody>\n",
              "    <tr>\n",
              "      <th>478</th>\n",
              "      <td>/content/gdrive/Shareddrives/Soedirman-Machine...</td>\n",
              "      <td>Type II</td>\n",
              "      <td>train</td>\n",
              "    </tr>\n",
              "    <tr>\n",
              "      <th>1112</th>\n",
              "      <td>/content/gdrive/Shareddrives/Soedirman-Machine...</td>\n",
              "      <td>Type II</td>\n",
              "      <td>train</td>\n",
              "    </tr>\n",
              "    <tr>\n",
              "      <th>894</th>\n",
              "      <td>/content/gdrive/Shareddrives/Soedirman-Machine...</td>\n",
              "      <td>Type I</td>\n",
              "      <td>train</td>\n",
              "    </tr>\n",
              "  </tbody>\n",
              "</table>\n",
              "</div>"
            ],
            "text/plain": [
              "                                                   path      tag    set\n",
              "478   /content/gdrive/Shareddrives/Soedirman-Machine...  Type II  train\n",
              "1112  /content/gdrive/Shareddrives/Soedirman-Machine...  Type II  train\n",
              "894   /content/gdrive/Shareddrives/Soedirman-Machine...   Type I  train"
            ]
          },
          "metadata": {
            "tags": []
          },
          "execution_count": 8
        }
      ]
    },
    {
      "cell_type": "code",
      "metadata": {
        "id": "wZji87k8M6Yu"
      },
      "source": [
        "import shutil\n",
        "from tqdm.notebook import tqdm as tq\n",
        "import shutil\n",
        "import os, sys"
      ],
      "execution_count": null,
      "outputs": []
    },
    {
      "cell_type": "markdown",
      "metadata": {
        "id": "YGuQmOQVwIDJ"
      },
      "source": [
        "# Membuat Folder Baru untuk Dataset"
      ]
    },
    {
      "cell_type": "code",
      "metadata": {
        "id": "dgWROw_DM_J4"
      },
      "source": [
        "## create folders\n",
        "os.makedirs('Dataset2/')"
      ],
      "execution_count": null,
      "outputs": []
    },
    {
      "cell_type": "markdown",
      "metadata": {
        "id": "MBJ2NljFwRx1"
      },
      "source": [
        "# Menyalin Dataset ke dalam Folder Dataset Baru"
      ]
    },
    {
      "cell_type": "code",
      "metadata": {
        "colab": {
          "base_uri": "https://localhost:8080/",
          "height": 66
        },
        "id": "7CXZFR-hNAS_",
        "outputId": "07c8d4f3-6373-4938-edff-6d3fa68eb424"
      },
      "source": [
        "datasource_path = \"/content/gdrive/Shareddrives/Soedirman-Machine-Learning/CT SCAN COVID-19/Morbidity/Original/\"\n",
        "dataset_path = \"Dataset2/\"\n",
        "\n",
        "for index, row in tq(df_all.iterrows()):\n",
        "    \n",
        "    #detect filepath\n",
        "    file_path = row['path']\n",
        "    if os.path.exists(file_path) == False:\n",
        "            file_path = os.path.join(datasource_path,row['tag'],row['image'].split('.')[0])            \n",
        "    \n",
        "    #make folder destination dirs\n",
        "    if os.path.exists(os.path.join(dataset_path,row['set'],row['tag'])) == False:\n",
        "        os.makedirs(os.path.join(dataset_path,row['set'],row['tag']))\n",
        "    \n",
        "    #define file dest\n",
        "    destination_file_name = file_path.split('/')[-1]\n",
        "    file_dest = os.path.join(dataset_path,row['set'],row['tag'],destination_file_name)\n",
        "    \n",
        "    #copy file from source to dest\n",
        "    if os.path.exists(file_dest) == False:\n",
        "        shutil.copy2(file_path,file_dest)"
      ],
      "execution_count": null,
      "outputs": [
        {
          "output_type": "display_data",
          "data": {
            "application/vnd.jupyter.widget-view+json": {
              "model_id": "17fff6169ecb40c4a01e01f3f133e25c",
              "version_major": 2,
              "version_minor": 0
            },
            "text/plain": [
              "HBox(children=(FloatProgress(value=1.0, bar_style='info', max=1.0), HTML(value='')))"
            ]
          },
          "metadata": {
            "tags": []
          }
        },
        {
          "output_type": "stream",
          "text": [
            "\n"
          ],
          "name": "stdout"
        }
      ]
    },
    {
      "cell_type": "markdown",
      "metadata": {
        "id": "3ZS3nylQwauE"
      },
      "source": [
        "# Pre-processing dan Augmentasi Data"
      ]
    },
    {
      "cell_type": "code",
      "metadata": {
        "id": "E3dTBuR3NPJ-"
      },
      "source": [
        "datagen = tf.keras.preprocessing.image.ImageDataGenerator(\n",
        "    rescale=1./255, \n",
        "    validation_split = 0.2,\n",
        "    rotation_range = 30,\n",
        "    horizontal_flip = True,\n",
        "    shear_range = 0.2,\n",
        "    zoom_range = 0.1,    \n",
        "    vertical_flip = True,\n",
        "    fill_mode = \"nearest\")"
      ],
      "execution_count": null,
      "outputs": []
    },
    {
      "cell_type": "markdown",
      "metadata": {
        "id": "rPKzgPZrMYKT"
      },
      "source": [
        "# Mengimpor Dataset"
      ]
    },
    {
      "cell_type": "code",
      "metadata": {
        "colab": {
          "base_uri": "https://localhost:8080/"
        },
        "id": "3MC8ipRTyNkb",
        "outputId": "7eca0ad3-5def-4602-9cdf-c9260e4fd186"
      },
      "source": [
        "#Memuat semua gambar ke memori untuk pertama kali\n",
        "\n",
        "#Memuat dataset pelatihan\n",
        "IMAGE_SIZE = 224\n",
        "BATCH_SIZE = 66\n",
        "base_dir = os.path.join('Dataset2/train/')\n",
        "\n",
        "\n",
        "\n",
        "train_generator = datagen.flow_from_directory(\n",
        "    base_dir,\n",
        "    target_size=(IMAGE_SIZE, IMAGE_SIZE),\n",
        "    batch_size=BATCH_SIZE, \n",
        "    subset='training',\n",
        "    class_mode= 'categorical')\n",
        "\n",
        "val_generator = datagen.flow_from_directory(\n",
        "    base_dir,\n",
        "    target_size=(IMAGE_SIZE, IMAGE_SIZE),\n",
        "    batch_size=BATCH_SIZE, \n",
        "    subset='validation',\n",
        "    class_mode= 'categorical')\n",
        "\n",
        "#Memuat dataset pengujian\n",
        "X_test = []\n",
        "y_test = []\n",
        "labels = ['Control',\n",
        "          'Type I',\n",
        "          'Type II']\n",
        "\n",
        "for i,label in enumerate(labels):\n",
        "    folder = os.path.join(\"Dataset2/test\",label)\n",
        "    files = sorted(os.listdir(folder))\n",
        "    files = [x for x in files if x.endswith(\".jpg\")]\n",
        "    for k,file in enumerate(files):\n",
        "        image_path = os.path.join(folder, file)\n",
        "        \n",
        "        image = imread(image_path)/255.\n",
        "        image = resize(image,(224,224))\n",
        "        X_test.append(image)\n",
        "        category = os.path.split(folder)[-1]\n",
        "        y_test.append(i)\n",
        "\n",
        "X_test = np.array(X_test)\n",
        "y_test = np.array(y_test)\n",
        "\n",
        "#Menampilkan bentuk dari masing-masing dataset\n",
        "for image_batch, label_batch in train_generator:\n",
        "  break\n",
        "print(\"Bentuk array dari dataset train (pelatihan) adalah:\", image_batch.shape,label_batch.shape)\n",
        "for image_batch, label_batch in val_generator:\n",
        "  break\n",
        "print(\"Bentuk array dari dataset validation (validasi) adalah:\", image_batch.shape,label_batch.shape)\n",
        "print(\"Bentuk array dari dataset test (pengujian) adalah:\", X_test.shape,y_test.shape)"
      ],
      "execution_count": null,
      "outputs": [
        {
          "output_type": "stream",
          "text": [
            "Found 1011 images belonging to 3 classes.\n",
            "Found 251 images belonging to 3 classes.\n",
            "Bentuk array dari dataset train (pelatihan) adalah: (66, 224, 224, 3) (66, 3)\n",
            "Bentuk array dari dataset validation (validasi) adalah: (66, 224, 224, 3) (66, 3)\n",
            "Bentuk array dari dataset test (pengujian) adalah: (316, 224, 224) (316,)\n"
          ],
          "name": "stdout"
        }
      ]
    },
    {
      "cell_type": "markdown",
      "metadata": {
        "id": "fJkyzMqvMjyp"
      },
      "source": [
        "# Menyimpan label"
      ]
    },
    {
      "cell_type": "code",
      "metadata": {
        "colab": {
          "base_uri": "https://localhost:8080/"
        },
        "id": "zuiWFi8gyryf",
        "outputId": "b6ef4fa4-fdcb-447a-a8d3-8d574f2539bb"
      },
      "source": [
        "print (train_generator.class_indices)\n",
        "\n",
        "labels_txt = '\\n'.join(sorted(train_generator.class_indices.keys()))\n",
        "\n",
        "with open('labels.txt', 'w') as f:\n",
        "  f.write(labels_txt)"
      ],
      "execution_count": null,
      "outputs": [
        {
          "output_type": "stream",
          "text": [
            "{'Control': 0, 'Type I': 1, 'Type II': 2}\n"
          ],
          "name": "stdout"
        }
      ]
    },
    {
      "cell_type": "code",
      "metadata": {
        "colab": {
          "base_uri": "https://localhost:8080/"
        },
        "id": "auIaOCxgyguD",
        "outputId": "783172e3-d96f-4867-8a8b-d907335b3a8b"
      },
      "source": [
        "!cat labels.txt"
      ],
      "execution_count": null,
      "outputs": [
        {
          "output_type": "stream",
          "text": [
            "Control\n",
            "Type I\n",
            "Type II"
          ],
          "name": "stdout"
        }
      ]
    },
    {
      "cell_type": "markdown",
      "metadata": {
        "id": "mdKpWZTBMwSb"
      },
      "source": [
        "# Membuat model CNN"
      ]
    },
    {
      "cell_type": "code",
      "metadata": {
        "colab": {
          "base_uri": "https://localhost:8080/"
        },
        "id": "zrQKX9HVzbdY",
        "outputId": "56f5cbed-b340-4bf8-8330-34d01984afc9"
      },
      "source": [
        "IMG_SHAPE = (224, 224, 3)\n",
        "# Membuat model dasar (base model) dari pre-trained model MobileNet\n",
        "base_model = tf.keras.applications.ResNet50(input_shape=IMG_SHAPE,\n",
        "                                              include_top=False, \n",
        "                                              weights='imagenet')\n",
        "\n",
        "base_model.trainable = False\n",
        "base_model.summary()"
      ],
      "execution_count": null,
      "outputs": [
        {
          "output_type": "stream",
          "text": [
            "Downloading data from https://storage.googleapis.com/tensorflow/keras-applications/resnet/resnet50_weights_tf_dim_ordering_tf_kernels_notop.h5\n",
            "94773248/94765736 [==============================] - 1s 0us/step\n",
            "Model: \"resnet50\"\n",
            "__________________________________________________________________________________________________\n",
            "Layer (type)                    Output Shape         Param #     Connected to                     \n",
            "==================================================================================================\n",
            "input_1 (InputLayer)            [(None, 224, 224, 3) 0                                            \n",
            "__________________________________________________________________________________________________\n",
            "conv1_pad (ZeroPadding2D)       (None, 230, 230, 3)  0           input_1[0][0]                    \n",
            "__________________________________________________________________________________________________\n",
            "conv1_conv (Conv2D)             (None, 112, 112, 64) 9472        conv1_pad[0][0]                  \n",
            "__________________________________________________________________________________________________\n",
            "conv1_bn (BatchNormalization)   (None, 112, 112, 64) 256         conv1_conv[0][0]                 \n",
            "__________________________________________________________________________________________________\n",
            "conv1_relu (Activation)         (None, 112, 112, 64) 0           conv1_bn[0][0]                   \n",
            "__________________________________________________________________________________________________\n",
            "pool1_pad (ZeroPadding2D)       (None, 114, 114, 64) 0           conv1_relu[0][0]                 \n",
            "__________________________________________________________________________________________________\n",
            "pool1_pool (MaxPooling2D)       (None, 56, 56, 64)   0           pool1_pad[0][0]                  \n",
            "__________________________________________________________________________________________________\n",
            "conv2_block1_1_conv (Conv2D)    (None, 56, 56, 64)   4160        pool1_pool[0][0]                 \n",
            "__________________________________________________________________________________________________\n",
            "conv2_block1_1_bn (BatchNormali (None, 56, 56, 64)   256         conv2_block1_1_conv[0][0]        \n",
            "__________________________________________________________________________________________________\n",
            "conv2_block1_1_relu (Activation (None, 56, 56, 64)   0           conv2_block1_1_bn[0][0]          \n",
            "__________________________________________________________________________________________________\n",
            "conv2_block1_2_conv (Conv2D)    (None, 56, 56, 64)   36928       conv2_block1_1_relu[0][0]        \n",
            "__________________________________________________________________________________________________\n",
            "conv2_block1_2_bn (BatchNormali (None, 56, 56, 64)   256         conv2_block1_2_conv[0][0]        \n",
            "__________________________________________________________________________________________________\n",
            "conv2_block1_2_relu (Activation (None, 56, 56, 64)   0           conv2_block1_2_bn[0][0]          \n",
            "__________________________________________________________________________________________________\n",
            "conv2_block1_0_conv (Conv2D)    (None, 56, 56, 256)  16640       pool1_pool[0][0]                 \n",
            "__________________________________________________________________________________________________\n",
            "conv2_block1_3_conv (Conv2D)    (None, 56, 56, 256)  16640       conv2_block1_2_relu[0][0]        \n",
            "__________________________________________________________________________________________________\n",
            "conv2_block1_0_bn (BatchNormali (None, 56, 56, 256)  1024        conv2_block1_0_conv[0][0]        \n",
            "__________________________________________________________________________________________________\n",
            "conv2_block1_3_bn (BatchNormali (None, 56, 56, 256)  1024        conv2_block1_3_conv[0][0]        \n",
            "__________________________________________________________________________________________________\n",
            "conv2_block1_add (Add)          (None, 56, 56, 256)  0           conv2_block1_0_bn[0][0]          \n",
            "                                                                 conv2_block1_3_bn[0][0]          \n",
            "__________________________________________________________________________________________________\n",
            "conv2_block1_out (Activation)   (None, 56, 56, 256)  0           conv2_block1_add[0][0]           \n",
            "__________________________________________________________________________________________________\n",
            "conv2_block2_1_conv (Conv2D)    (None, 56, 56, 64)   16448       conv2_block1_out[0][0]           \n",
            "__________________________________________________________________________________________________\n",
            "conv2_block2_1_bn (BatchNormali (None, 56, 56, 64)   256         conv2_block2_1_conv[0][0]        \n",
            "__________________________________________________________________________________________________\n",
            "conv2_block2_1_relu (Activation (None, 56, 56, 64)   0           conv2_block2_1_bn[0][0]          \n",
            "__________________________________________________________________________________________________\n",
            "conv2_block2_2_conv (Conv2D)    (None, 56, 56, 64)   36928       conv2_block2_1_relu[0][0]        \n",
            "__________________________________________________________________________________________________\n",
            "conv2_block2_2_bn (BatchNormali (None, 56, 56, 64)   256         conv2_block2_2_conv[0][0]        \n",
            "__________________________________________________________________________________________________\n",
            "conv2_block2_2_relu (Activation (None, 56, 56, 64)   0           conv2_block2_2_bn[0][0]          \n",
            "__________________________________________________________________________________________________\n",
            "conv2_block2_3_conv (Conv2D)    (None, 56, 56, 256)  16640       conv2_block2_2_relu[0][0]        \n",
            "__________________________________________________________________________________________________\n",
            "conv2_block2_3_bn (BatchNormali (None, 56, 56, 256)  1024        conv2_block2_3_conv[0][0]        \n",
            "__________________________________________________________________________________________________\n",
            "conv2_block2_add (Add)          (None, 56, 56, 256)  0           conv2_block1_out[0][0]           \n",
            "                                                                 conv2_block2_3_bn[0][0]          \n",
            "__________________________________________________________________________________________________\n",
            "conv2_block2_out (Activation)   (None, 56, 56, 256)  0           conv2_block2_add[0][0]           \n",
            "__________________________________________________________________________________________________\n",
            "conv2_block3_1_conv (Conv2D)    (None, 56, 56, 64)   16448       conv2_block2_out[0][0]           \n",
            "__________________________________________________________________________________________________\n",
            "conv2_block3_1_bn (BatchNormali (None, 56, 56, 64)   256         conv2_block3_1_conv[0][0]        \n",
            "__________________________________________________________________________________________________\n",
            "conv2_block3_1_relu (Activation (None, 56, 56, 64)   0           conv2_block3_1_bn[0][0]          \n",
            "__________________________________________________________________________________________________\n",
            "conv2_block3_2_conv (Conv2D)    (None, 56, 56, 64)   36928       conv2_block3_1_relu[0][0]        \n",
            "__________________________________________________________________________________________________\n",
            "conv2_block3_2_bn (BatchNormali (None, 56, 56, 64)   256         conv2_block3_2_conv[0][0]        \n",
            "__________________________________________________________________________________________________\n",
            "conv2_block3_2_relu (Activation (None, 56, 56, 64)   0           conv2_block3_2_bn[0][0]          \n",
            "__________________________________________________________________________________________________\n",
            "conv2_block3_3_conv (Conv2D)    (None, 56, 56, 256)  16640       conv2_block3_2_relu[0][0]        \n",
            "__________________________________________________________________________________________________\n",
            "conv2_block3_3_bn (BatchNormali (None, 56, 56, 256)  1024        conv2_block3_3_conv[0][0]        \n",
            "__________________________________________________________________________________________________\n",
            "conv2_block3_add (Add)          (None, 56, 56, 256)  0           conv2_block2_out[0][0]           \n",
            "                                                                 conv2_block3_3_bn[0][0]          \n",
            "__________________________________________________________________________________________________\n",
            "conv2_block3_out (Activation)   (None, 56, 56, 256)  0           conv2_block3_add[0][0]           \n",
            "__________________________________________________________________________________________________\n",
            "conv3_block1_1_conv (Conv2D)    (None, 28, 28, 128)  32896       conv2_block3_out[0][0]           \n",
            "__________________________________________________________________________________________________\n",
            "conv3_block1_1_bn (BatchNormali (None, 28, 28, 128)  512         conv3_block1_1_conv[0][0]        \n",
            "__________________________________________________________________________________________________\n",
            "conv3_block1_1_relu (Activation (None, 28, 28, 128)  0           conv3_block1_1_bn[0][0]          \n",
            "__________________________________________________________________________________________________\n",
            "conv3_block1_2_conv (Conv2D)    (None, 28, 28, 128)  147584      conv3_block1_1_relu[0][0]        \n",
            "__________________________________________________________________________________________________\n",
            "conv3_block1_2_bn (BatchNormali (None, 28, 28, 128)  512         conv3_block1_2_conv[0][0]        \n",
            "__________________________________________________________________________________________________\n",
            "conv3_block1_2_relu (Activation (None, 28, 28, 128)  0           conv3_block1_2_bn[0][0]          \n",
            "__________________________________________________________________________________________________\n",
            "conv3_block1_0_conv (Conv2D)    (None, 28, 28, 512)  131584      conv2_block3_out[0][0]           \n",
            "__________________________________________________________________________________________________\n",
            "conv3_block1_3_conv (Conv2D)    (None, 28, 28, 512)  66048       conv3_block1_2_relu[0][0]        \n",
            "__________________________________________________________________________________________________\n",
            "conv3_block1_0_bn (BatchNormali (None, 28, 28, 512)  2048        conv3_block1_0_conv[0][0]        \n",
            "__________________________________________________________________________________________________\n",
            "conv3_block1_3_bn (BatchNormali (None, 28, 28, 512)  2048        conv3_block1_3_conv[0][0]        \n",
            "__________________________________________________________________________________________________\n",
            "conv3_block1_add (Add)          (None, 28, 28, 512)  0           conv3_block1_0_bn[0][0]          \n",
            "                                                                 conv3_block1_3_bn[0][0]          \n",
            "__________________________________________________________________________________________________\n",
            "conv3_block1_out (Activation)   (None, 28, 28, 512)  0           conv3_block1_add[0][0]           \n",
            "__________________________________________________________________________________________________\n",
            "conv3_block2_1_conv (Conv2D)    (None, 28, 28, 128)  65664       conv3_block1_out[0][0]           \n",
            "__________________________________________________________________________________________________\n",
            "conv3_block2_1_bn (BatchNormali (None, 28, 28, 128)  512         conv3_block2_1_conv[0][0]        \n",
            "__________________________________________________________________________________________________\n",
            "conv3_block2_1_relu (Activation (None, 28, 28, 128)  0           conv3_block2_1_bn[0][0]          \n",
            "__________________________________________________________________________________________________\n",
            "conv3_block2_2_conv (Conv2D)    (None, 28, 28, 128)  147584      conv3_block2_1_relu[0][0]        \n",
            "__________________________________________________________________________________________________\n",
            "conv3_block2_2_bn (BatchNormali (None, 28, 28, 128)  512         conv3_block2_2_conv[0][0]        \n",
            "__________________________________________________________________________________________________\n",
            "conv3_block2_2_relu (Activation (None, 28, 28, 128)  0           conv3_block2_2_bn[0][0]          \n",
            "__________________________________________________________________________________________________\n",
            "conv3_block2_3_conv (Conv2D)    (None, 28, 28, 512)  66048       conv3_block2_2_relu[0][0]        \n",
            "__________________________________________________________________________________________________\n",
            "conv3_block2_3_bn (BatchNormali (None, 28, 28, 512)  2048        conv3_block2_3_conv[0][0]        \n",
            "__________________________________________________________________________________________________\n",
            "conv3_block2_add (Add)          (None, 28, 28, 512)  0           conv3_block1_out[0][0]           \n",
            "                                                                 conv3_block2_3_bn[0][0]          \n",
            "__________________________________________________________________________________________________\n",
            "conv3_block2_out (Activation)   (None, 28, 28, 512)  0           conv3_block2_add[0][0]           \n",
            "__________________________________________________________________________________________________\n",
            "conv3_block3_1_conv (Conv2D)    (None, 28, 28, 128)  65664       conv3_block2_out[0][0]           \n",
            "__________________________________________________________________________________________________\n",
            "conv3_block3_1_bn (BatchNormali (None, 28, 28, 128)  512         conv3_block3_1_conv[0][0]        \n",
            "__________________________________________________________________________________________________\n",
            "conv3_block3_1_relu (Activation (None, 28, 28, 128)  0           conv3_block3_1_bn[0][0]          \n",
            "__________________________________________________________________________________________________\n",
            "conv3_block3_2_conv (Conv2D)    (None, 28, 28, 128)  147584      conv3_block3_1_relu[0][0]        \n",
            "__________________________________________________________________________________________________\n",
            "conv3_block3_2_bn (BatchNormali (None, 28, 28, 128)  512         conv3_block3_2_conv[0][0]        \n",
            "__________________________________________________________________________________________________\n",
            "conv3_block3_2_relu (Activation (None, 28, 28, 128)  0           conv3_block3_2_bn[0][0]          \n",
            "__________________________________________________________________________________________________\n",
            "conv3_block3_3_conv (Conv2D)    (None, 28, 28, 512)  66048       conv3_block3_2_relu[0][0]        \n",
            "__________________________________________________________________________________________________\n",
            "conv3_block3_3_bn (BatchNormali (None, 28, 28, 512)  2048        conv3_block3_3_conv[0][0]        \n",
            "__________________________________________________________________________________________________\n",
            "conv3_block3_add (Add)          (None, 28, 28, 512)  0           conv3_block2_out[0][0]           \n",
            "                                                                 conv3_block3_3_bn[0][0]          \n",
            "__________________________________________________________________________________________________\n",
            "conv3_block3_out (Activation)   (None, 28, 28, 512)  0           conv3_block3_add[0][0]           \n",
            "__________________________________________________________________________________________________\n",
            "conv3_block4_1_conv (Conv2D)    (None, 28, 28, 128)  65664       conv3_block3_out[0][0]           \n",
            "__________________________________________________________________________________________________\n",
            "conv3_block4_1_bn (BatchNormali (None, 28, 28, 128)  512         conv3_block4_1_conv[0][0]        \n",
            "__________________________________________________________________________________________________\n",
            "conv3_block4_1_relu (Activation (None, 28, 28, 128)  0           conv3_block4_1_bn[0][0]          \n",
            "__________________________________________________________________________________________________\n",
            "conv3_block4_2_conv (Conv2D)    (None, 28, 28, 128)  147584      conv3_block4_1_relu[0][0]        \n",
            "__________________________________________________________________________________________________\n",
            "conv3_block4_2_bn (BatchNormali (None, 28, 28, 128)  512         conv3_block4_2_conv[0][0]        \n",
            "__________________________________________________________________________________________________\n",
            "conv3_block4_2_relu (Activation (None, 28, 28, 128)  0           conv3_block4_2_bn[0][0]          \n",
            "__________________________________________________________________________________________________\n",
            "conv3_block4_3_conv (Conv2D)    (None, 28, 28, 512)  66048       conv3_block4_2_relu[0][0]        \n",
            "__________________________________________________________________________________________________\n",
            "conv3_block4_3_bn (BatchNormali (None, 28, 28, 512)  2048        conv3_block4_3_conv[0][0]        \n",
            "__________________________________________________________________________________________________\n",
            "conv3_block4_add (Add)          (None, 28, 28, 512)  0           conv3_block3_out[0][0]           \n",
            "                                                                 conv3_block4_3_bn[0][0]          \n",
            "__________________________________________________________________________________________________\n",
            "conv3_block4_out (Activation)   (None, 28, 28, 512)  0           conv3_block4_add[0][0]           \n",
            "__________________________________________________________________________________________________\n",
            "conv4_block1_1_conv (Conv2D)    (None, 14, 14, 256)  131328      conv3_block4_out[0][0]           \n",
            "__________________________________________________________________________________________________\n",
            "conv4_block1_1_bn (BatchNormali (None, 14, 14, 256)  1024        conv4_block1_1_conv[0][0]        \n",
            "__________________________________________________________________________________________________\n",
            "conv4_block1_1_relu (Activation (None, 14, 14, 256)  0           conv4_block1_1_bn[0][0]          \n",
            "__________________________________________________________________________________________________\n",
            "conv4_block1_2_conv (Conv2D)    (None, 14, 14, 256)  590080      conv4_block1_1_relu[0][0]        \n",
            "__________________________________________________________________________________________________\n",
            "conv4_block1_2_bn (BatchNormali (None, 14, 14, 256)  1024        conv4_block1_2_conv[0][0]        \n",
            "__________________________________________________________________________________________________\n",
            "conv4_block1_2_relu (Activation (None, 14, 14, 256)  0           conv4_block1_2_bn[0][0]          \n",
            "__________________________________________________________________________________________________\n",
            "conv4_block1_0_conv (Conv2D)    (None, 14, 14, 1024) 525312      conv3_block4_out[0][0]           \n",
            "__________________________________________________________________________________________________\n",
            "conv4_block1_3_conv (Conv2D)    (None, 14, 14, 1024) 263168      conv4_block1_2_relu[0][0]        \n",
            "__________________________________________________________________________________________________\n",
            "conv4_block1_0_bn (BatchNormali (None, 14, 14, 1024) 4096        conv4_block1_0_conv[0][0]        \n",
            "__________________________________________________________________________________________________\n",
            "conv4_block1_3_bn (BatchNormali (None, 14, 14, 1024) 4096        conv4_block1_3_conv[0][0]        \n",
            "__________________________________________________________________________________________________\n",
            "conv4_block1_add (Add)          (None, 14, 14, 1024) 0           conv4_block1_0_bn[0][0]          \n",
            "                                                                 conv4_block1_3_bn[0][0]          \n",
            "__________________________________________________________________________________________________\n",
            "conv4_block1_out (Activation)   (None, 14, 14, 1024) 0           conv4_block1_add[0][0]           \n",
            "__________________________________________________________________________________________________\n",
            "conv4_block2_1_conv (Conv2D)    (None, 14, 14, 256)  262400      conv4_block1_out[0][0]           \n",
            "__________________________________________________________________________________________________\n",
            "conv4_block2_1_bn (BatchNormali (None, 14, 14, 256)  1024        conv4_block2_1_conv[0][0]        \n",
            "__________________________________________________________________________________________________\n",
            "conv4_block2_1_relu (Activation (None, 14, 14, 256)  0           conv4_block2_1_bn[0][0]          \n",
            "__________________________________________________________________________________________________\n",
            "conv4_block2_2_conv (Conv2D)    (None, 14, 14, 256)  590080      conv4_block2_1_relu[0][0]        \n",
            "__________________________________________________________________________________________________\n",
            "conv4_block2_2_bn (BatchNormali (None, 14, 14, 256)  1024        conv4_block2_2_conv[0][0]        \n",
            "__________________________________________________________________________________________________\n",
            "conv4_block2_2_relu (Activation (None, 14, 14, 256)  0           conv4_block2_2_bn[0][0]          \n",
            "__________________________________________________________________________________________________\n",
            "conv4_block2_3_conv (Conv2D)    (None, 14, 14, 1024) 263168      conv4_block2_2_relu[0][0]        \n",
            "__________________________________________________________________________________________________\n",
            "conv4_block2_3_bn (BatchNormali (None, 14, 14, 1024) 4096        conv4_block2_3_conv[0][0]        \n",
            "__________________________________________________________________________________________________\n",
            "conv4_block2_add (Add)          (None, 14, 14, 1024) 0           conv4_block1_out[0][0]           \n",
            "                                                                 conv4_block2_3_bn[0][0]          \n",
            "__________________________________________________________________________________________________\n",
            "conv4_block2_out (Activation)   (None, 14, 14, 1024) 0           conv4_block2_add[0][0]           \n",
            "__________________________________________________________________________________________________\n",
            "conv4_block3_1_conv (Conv2D)    (None, 14, 14, 256)  262400      conv4_block2_out[0][0]           \n",
            "__________________________________________________________________________________________________\n",
            "conv4_block3_1_bn (BatchNormali (None, 14, 14, 256)  1024        conv4_block3_1_conv[0][0]        \n",
            "__________________________________________________________________________________________________\n",
            "conv4_block3_1_relu (Activation (None, 14, 14, 256)  0           conv4_block3_1_bn[0][0]          \n",
            "__________________________________________________________________________________________________\n",
            "conv4_block3_2_conv (Conv2D)    (None, 14, 14, 256)  590080      conv4_block3_1_relu[0][0]        \n",
            "__________________________________________________________________________________________________\n",
            "conv4_block3_2_bn (BatchNormali (None, 14, 14, 256)  1024        conv4_block3_2_conv[0][0]        \n",
            "__________________________________________________________________________________________________\n",
            "conv4_block3_2_relu (Activation (None, 14, 14, 256)  0           conv4_block3_2_bn[0][0]          \n",
            "__________________________________________________________________________________________________\n",
            "conv4_block3_3_conv (Conv2D)    (None, 14, 14, 1024) 263168      conv4_block3_2_relu[0][0]        \n",
            "__________________________________________________________________________________________________\n",
            "conv4_block3_3_bn (BatchNormali (None, 14, 14, 1024) 4096        conv4_block3_3_conv[0][0]        \n",
            "__________________________________________________________________________________________________\n",
            "conv4_block3_add (Add)          (None, 14, 14, 1024) 0           conv4_block2_out[0][0]           \n",
            "                                                                 conv4_block3_3_bn[0][0]          \n",
            "__________________________________________________________________________________________________\n",
            "conv4_block3_out (Activation)   (None, 14, 14, 1024) 0           conv4_block3_add[0][0]           \n",
            "__________________________________________________________________________________________________\n",
            "conv4_block4_1_conv (Conv2D)    (None, 14, 14, 256)  262400      conv4_block3_out[0][0]           \n",
            "__________________________________________________________________________________________________\n",
            "conv4_block4_1_bn (BatchNormali (None, 14, 14, 256)  1024        conv4_block4_1_conv[0][0]        \n",
            "__________________________________________________________________________________________________\n",
            "conv4_block4_1_relu (Activation (None, 14, 14, 256)  0           conv4_block4_1_bn[0][0]          \n",
            "__________________________________________________________________________________________________\n",
            "conv4_block4_2_conv (Conv2D)    (None, 14, 14, 256)  590080      conv4_block4_1_relu[0][0]        \n",
            "__________________________________________________________________________________________________\n",
            "conv4_block4_2_bn (BatchNormali (None, 14, 14, 256)  1024        conv4_block4_2_conv[0][0]        \n",
            "__________________________________________________________________________________________________\n",
            "conv4_block4_2_relu (Activation (None, 14, 14, 256)  0           conv4_block4_2_bn[0][0]          \n",
            "__________________________________________________________________________________________________\n",
            "conv4_block4_3_conv (Conv2D)    (None, 14, 14, 1024) 263168      conv4_block4_2_relu[0][0]        \n",
            "__________________________________________________________________________________________________\n",
            "conv4_block4_3_bn (BatchNormali (None, 14, 14, 1024) 4096        conv4_block4_3_conv[0][0]        \n",
            "__________________________________________________________________________________________________\n",
            "conv4_block4_add (Add)          (None, 14, 14, 1024) 0           conv4_block3_out[0][0]           \n",
            "                                                                 conv4_block4_3_bn[0][0]          \n",
            "__________________________________________________________________________________________________\n",
            "conv4_block4_out (Activation)   (None, 14, 14, 1024) 0           conv4_block4_add[0][0]           \n",
            "__________________________________________________________________________________________________\n",
            "conv4_block5_1_conv (Conv2D)    (None, 14, 14, 256)  262400      conv4_block4_out[0][0]           \n",
            "__________________________________________________________________________________________________\n",
            "conv4_block5_1_bn (BatchNormali (None, 14, 14, 256)  1024        conv4_block5_1_conv[0][0]        \n",
            "__________________________________________________________________________________________________\n",
            "conv4_block5_1_relu (Activation (None, 14, 14, 256)  0           conv4_block5_1_bn[0][0]          \n",
            "__________________________________________________________________________________________________\n",
            "conv4_block5_2_conv (Conv2D)    (None, 14, 14, 256)  590080      conv4_block5_1_relu[0][0]        \n",
            "__________________________________________________________________________________________________\n",
            "conv4_block5_2_bn (BatchNormali (None, 14, 14, 256)  1024        conv4_block5_2_conv[0][0]        \n",
            "__________________________________________________________________________________________________\n",
            "conv4_block5_2_relu (Activation (None, 14, 14, 256)  0           conv4_block5_2_bn[0][0]          \n",
            "__________________________________________________________________________________________________\n",
            "conv4_block5_3_conv (Conv2D)    (None, 14, 14, 1024) 263168      conv4_block5_2_relu[0][0]        \n",
            "__________________________________________________________________________________________________\n",
            "conv4_block5_3_bn (BatchNormali (None, 14, 14, 1024) 4096        conv4_block5_3_conv[0][0]        \n",
            "__________________________________________________________________________________________________\n",
            "conv4_block5_add (Add)          (None, 14, 14, 1024) 0           conv4_block4_out[0][0]           \n",
            "                                                                 conv4_block5_3_bn[0][0]          \n",
            "__________________________________________________________________________________________________\n",
            "conv4_block5_out (Activation)   (None, 14, 14, 1024) 0           conv4_block5_add[0][0]           \n",
            "__________________________________________________________________________________________________\n",
            "conv4_block6_1_conv (Conv2D)    (None, 14, 14, 256)  262400      conv4_block5_out[0][0]           \n",
            "__________________________________________________________________________________________________\n",
            "conv4_block6_1_bn (BatchNormali (None, 14, 14, 256)  1024        conv4_block6_1_conv[0][0]        \n",
            "__________________________________________________________________________________________________\n",
            "conv4_block6_1_relu (Activation (None, 14, 14, 256)  0           conv4_block6_1_bn[0][0]          \n",
            "__________________________________________________________________________________________________\n",
            "conv4_block6_2_conv (Conv2D)    (None, 14, 14, 256)  590080      conv4_block6_1_relu[0][0]        \n",
            "__________________________________________________________________________________________________\n",
            "conv4_block6_2_bn (BatchNormali (None, 14, 14, 256)  1024        conv4_block6_2_conv[0][0]        \n",
            "__________________________________________________________________________________________________\n",
            "conv4_block6_2_relu (Activation (None, 14, 14, 256)  0           conv4_block6_2_bn[0][0]          \n",
            "__________________________________________________________________________________________________\n",
            "conv4_block6_3_conv (Conv2D)    (None, 14, 14, 1024) 263168      conv4_block6_2_relu[0][0]        \n",
            "__________________________________________________________________________________________________\n",
            "conv4_block6_3_bn (BatchNormali (None, 14, 14, 1024) 4096        conv4_block6_3_conv[0][0]        \n",
            "__________________________________________________________________________________________________\n",
            "conv4_block6_add (Add)          (None, 14, 14, 1024) 0           conv4_block5_out[0][0]           \n",
            "                                                                 conv4_block6_3_bn[0][0]          \n",
            "__________________________________________________________________________________________________\n",
            "conv4_block6_out (Activation)   (None, 14, 14, 1024) 0           conv4_block6_add[0][0]           \n",
            "__________________________________________________________________________________________________\n",
            "conv5_block1_1_conv (Conv2D)    (None, 7, 7, 512)    524800      conv4_block6_out[0][0]           \n",
            "__________________________________________________________________________________________________\n",
            "conv5_block1_1_bn (BatchNormali (None, 7, 7, 512)    2048        conv5_block1_1_conv[0][0]        \n",
            "__________________________________________________________________________________________________\n",
            "conv5_block1_1_relu (Activation (None, 7, 7, 512)    0           conv5_block1_1_bn[0][0]          \n",
            "__________________________________________________________________________________________________\n",
            "conv5_block1_2_conv (Conv2D)    (None, 7, 7, 512)    2359808     conv5_block1_1_relu[0][0]        \n",
            "__________________________________________________________________________________________________\n",
            "conv5_block1_2_bn (BatchNormali (None, 7, 7, 512)    2048        conv5_block1_2_conv[0][0]        \n",
            "__________________________________________________________________________________________________\n",
            "conv5_block1_2_relu (Activation (None, 7, 7, 512)    0           conv5_block1_2_bn[0][0]          \n",
            "__________________________________________________________________________________________________\n",
            "conv5_block1_0_conv (Conv2D)    (None, 7, 7, 2048)   2099200     conv4_block6_out[0][0]           \n",
            "__________________________________________________________________________________________________\n",
            "conv5_block1_3_conv (Conv2D)    (None, 7, 7, 2048)   1050624     conv5_block1_2_relu[0][0]        \n",
            "__________________________________________________________________________________________________\n",
            "conv5_block1_0_bn (BatchNormali (None, 7, 7, 2048)   8192        conv5_block1_0_conv[0][0]        \n",
            "__________________________________________________________________________________________________\n",
            "conv5_block1_3_bn (BatchNormali (None, 7, 7, 2048)   8192        conv5_block1_3_conv[0][0]        \n",
            "__________________________________________________________________________________________________\n",
            "conv5_block1_add (Add)          (None, 7, 7, 2048)   0           conv5_block1_0_bn[0][0]          \n",
            "                                                                 conv5_block1_3_bn[0][0]          \n",
            "__________________________________________________________________________________________________\n",
            "conv5_block1_out (Activation)   (None, 7, 7, 2048)   0           conv5_block1_add[0][0]           \n",
            "__________________________________________________________________________________________________\n",
            "conv5_block2_1_conv (Conv2D)    (None, 7, 7, 512)    1049088     conv5_block1_out[0][0]           \n",
            "__________________________________________________________________________________________________\n",
            "conv5_block2_1_bn (BatchNormali (None, 7, 7, 512)    2048        conv5_block2_1_conv[0][0]        \n",
            "__________________________________________________________________________________________________\n",
            "conv5_block2_1_relu (Activation (None, 7, 7, 512)    0           conv5_block2_1_bn[0][0]          \n",
            "__________________________________________________________________________________________________\n",
            "conv5_block2_2_conv (Conv2D)    (None, 7, 7, 512)    2359808     conv5_block2_1_relu[0][0]        \n",
            "__________________________________________________________________________________________________\n",
            "conv5_block2_2_bn (BatchNormali (None, 7, 7, 512)    2048        conv5_block2_2_conv[0][0]        \n",
            "__________________________________________________________________________________________________\n",
            "conv5_block2_2_relu (Activation (None, 7, 7, 512)    0           conv5_block2_2_bn[0][0]          \n",
            "__________________________________________________________________________________________________\n",
            "conv5_block2_3_conv (Conv2D)    (None, 7, 7, 2048)   1050624     conv5_block2_2_relu[0][0]        \n",
            "__________________________________________________________________________________________________\n",
            "conv5_block2_3_bn (BatchNormali (None, 7, 7, 2048)   8192        conv5_block2_3_conv[0][0]        \n",
            "__________________________________________________________________________________________________\n",
            "conv5_block2_add (Add)          (None, 7, 7, 2048)   0           conv5_block1_out[0][0]           \n",
            "                                                                 conv5_block2_3_bn[0][0]          \n",
            "__________________________________________________________________________________________________\n",
            "conv5_block2_out (Activation)   (None, 7, 7, 2048)   0           conv5_block2_add[0][0]           \n",
            "__________________________________________________________________________________________________\n",
            "conv5_block3_1_conv (Conv2D)    (None, 7, 7, 512)    1049088     conv5_block2_out[0][0]           \n",
            "__________________________________________________________________________________________________\n",
            "conv5_block3_1_bn (BatchNormali (None, 7, 7, 512)    2048        conv5_block3_1_conv[0][0]        \n",
            "__________________________________________________________________________________________________\n",
            "conv5_block3_1_relu (Activation (None, 7, 7, 512)    0           conv5_block3_1_bn[0][0]          \n",
            "__________________________________________________________________________________________________\n",
            "conv5_block3_2_conv (Conv2D)    (None, 7, 7, 512)    2359808     conv5_block3_1_relu[0][0]        \n",
            "__________________________________________________________________________________________________\n",
            "conv5_block3_2_bn (BatchNormali (None, 7, 7, 512)    2048        conv5_block3_2_conv[0][0]        \n",
            "__________________________________________________________________________________________________\n",
            "conv5_block3_2_relu (Activation (None, 7, 7, 512)    0           conv5_block3_2_bn[0][0]          \n",
            "__________________________________________________________________________________________________\n",
            "conv5_block3_3_conv (Conv2D)    (None, 7, 7, 2048)   1050624     conv5_block3_2_relu[0][0]        \n",
            "__________________________________________________________________________________________________\n",
            "conv5_block3_3_bn (BatchNormali (None, 7, 7, 2048)   8192        conv5_block3_3_conv[0][0]        \n",
            "__________________________________________________________________________________________________\n",
            "conv5_block3_add (Add)          (None, 7, 7, 2048)   0           conv5_block2_out[0][0]           \n",
            "                                                                 conv5_block3_3_bn[0][0]          \n",
            "__________________________________________________________________________________________________\n",
            "conv5_block3_out (Activation)   (None, 7, 7, 2048)   0           conv5_block3_add[0][0]           \n",
            "==================================================================================================\n",
            "Total params: 23,587,712\n",
            "Trainable params: 0\n",
            "Non-trainable params: 23,587,712\n",
            "__________________________________________________________________________________________________\n"
          ],
          "name": "stdout"
        }
      ]
    },
    {
      "cell_type": "code",
      "metadata": {
        "id": "m-JJL-gNzo4F"
      },
      "source": [
        "import keras\n",
        "from keras import backend as K\n",
        "from keras.models import Sequential\n",
        "from keras import layers\n",
        "from keras.utils.np_utils import to_categorical\n",
        "\n",
        "from sklearn.model_selection import train_test_split"
      ],
      "execution_count": null,
      "outputs": []
    },
    {
      "cell_type": "code",
      "metadata": {
        "colab": {
          "base_uri": "https://localhost:8080/"
        },
        "id": "k8kb4gw2zko6",
        "outputId": "84482533-f62f-4464-cb34-f09fd3509179"
      },
      "source": [
        "model = tf.keras.Sequential([\n",
        "    base_model,    \n",
        "    tf.keras.layers.Conv2D(1024, 3, activation='relu'),\n",
        "    tf.keras.layers.Dropout(0.2),\n",
        "    tf.keras.layers.Conv2D(512, 3, activation='relu'),\n",
        "    tf.keras.layers.Dropout(0.2),\n",
        "    tf.keras.layers.Conv2D(256, 3, activation='relu'),\n",
        "    tf.keras.layers.Dropout(0.2),\n",
        "    tf.keras.layers.GlobalAveragePooling2D(),\n",
        "    tf.keras.layers.Dense(128, activation='relu'),\n",
        "    tf.keras.layers.Dropout(0.05),\n",
        "    tf.keras.layers.Dense(3, activation='softmax')\n",
        "]\n",
        ")\n",
        "\n",
        "model.compile(\"adam\",loss=\"categorical_crossentropy\",metrics=[\"acc\"])\n",
        "model.summary()"
      ],
      "execution_count": null,
      "outputs": [
        {
          "output_type": "stream",
          "text": [
            "Model: \"sequential\"\n",
            "_________________________________________________________________\n",
            "Layer (type)                 Output Shape              Param #   \n",
            "=================================================================\n",
            "resnet50 (Functional)        (None, 7, 7, 2048)        23587712  \n",
            "_________________________________________________________________\n",
            "conv2d (Conv2D)              (None, 5, 5, 1024)        18875392  \n",
            "_________________________________________________________________\n",
            "dropout (Dropout)            (None, 5, 5, 1024)        0         \n",
            "_________________________________________________________________\n",
            "conv2d_1 (Conv2D)            (None, 3, 3, 512)         4719104   \n",
            "_________________________________________________________________\n",
            "dropout_1 (Dropout)          (None, 3, 3, 512)         0         \n",
            "_________________________________________________________________\n",
            "conv2d_2 (Conv2D)            (None, 1, 1, 256)         1179904   \n",
            "_________________________________________________________________\n",
            "dropout_2 (Dropout)          (None, 1, 1, 256)         0         \n",
            "_________________________________________________________________\n",
            "global_average_pooling2d (Gl (None, 256)               0         \n",
            "_________________________________________________________________\n",
            "dense (Dense)                (None, 128)               32896     \n",
            "_________________________________________________________________\n",
            "dropout_3 (Dropout)          (None, 128)               0         \n",
            "_________________________________________________________________\n",
            "dense_1 (Dense)              (None, 3)                 387       \n",
            "=================================================================\n",
            "Total params: 48,395,395\n",
            "Trainable params: 24,807,683\n",
            "Non-trainable params: 23,587,712\n",
            "_________________________________________________________________\n"
          ],
          "name": "stdout"
        }
      ]
    },
    {
      "cell_type": "markdown",
      "metadata": {
        "id": "EfOwGVXxr1yD"
      },
      "source": [
        ""
      ]
    },
    {
      "cell_type": "markdown",
      "metadata": {
        "id": "o5RxA8NlwkPY"
      },
      "source": [
        "# Melatih Model"
      ]
    },
    {
      "cell_type": "code",
      "metadata": {
        "colab": {
          "background_save": true,
          "base_uri": "https://localhost:8080/"
        },
        "id": "B6cYQQ_8z294",
        "outputId": "49a47ce8-e7af-4842-ee6c-a910c25343f3"
      },
      "source": [
        "history = model.fit_generator(train_generator, \n",
        "                    epochs=100, \n",
        "                    validation_data=val_generator)"
      ],
      "execution_count": null,
      "outputs": [
        {
          "output_type": "stream",
          "text": [
            "/usr/local/lib/python3.7/dist-packages/tensorflow/python/keras/engine/training.py:1844: UserWarning: `Model.fit_generator` is deprecated and will be removed in a future version. Please use `Model.fit`, which supports generators.\n",
            "  warnings.warn('`Model.fit_generator` is deprecated and '\n"
          ],
          "name": "stderr"
        },
        {
          "output_type": "stream",
          "text": [
            "Epoch 1/100\n",
            "16/16 [==============================] - 55s 1s/step - loss: 9.4225 - acc: 0.3273 - val_loss: 1.1004 - val_acc: 0.3187\n",
            "Epoch 2/100\n",
            "16/16 [==============================] - 15s 920ms/step - loss: 1.1185 - acc: 0.3292 - val_loss: 1.0909 - val_acc: 0.3625\n",
            "Epoch 3/100\n",
            "16/16 [==============================] - 15s 924ms/step - loss: 1.0793 - acc: 0.4001 - val_loss: 1.0840 - val_acc: 0.4024\n",
            "Epoch 4/100\n",
            "16/16 [==============================] - 15s 938ms/step - loss: 1.0757 - acc: 0.3752 - val_loss: 1.1696 - val_acc: 0.3466\n",
            "Epoch 5/100\n",
            "16/16 [==============================] - 15s 955ms/step - loss: 1.0274 - acc: 0.4331 - val_loss: 1.0450 - val_acc: 0.4622\n",
            "Epoch 6/100\n",
            "16/16 [==============================] - 15s 963ms/step - loss: 1.0035 - acc: 0.4622 - val_loss: 1.1214 - val_acc: 0.3865\n",
            "Epoch 7/100\n",
            "16/16 [==============================] - 15s 937ms/step - loss: 1.0225 - acc: 0.4440 - val_loss: 1.0837 - val_acc: 0.4024\n",
            "Epoch 8/100\n",
            "16/16 [==============================] - 15s 933ms/step - loss: 1.0184 - acc: 0.4696 - val_loss: 1.1740 - val_acc: 0.3506\n",
            "Epoch 9/100\n",
            "16/16 [==============================] - 15s 972ms/step - loss: 0.9717 - acc: 0.4803 - val_loss: 1.1078 - val_acc: 0.3904\n",
            "Epoch 10/100\n",
            "16/16 [==============================] - 15s 942ms/step - loss: 0.9625 - acc: 0.4789 - val_loss: 1.0950 - val_acc: 0.3625\n",
            "Epoch 11/100\n",
            "16/16 [==============================] - 15s 934ms/step - loss: 0.9502 - acc: 0.5236 - val_loss: 1.3058 - val_acc: 0.3705\n",
            "Epoch 12/100\n",
            "16/16 [==============================] - 15s 991ms/step - loss: 0.9296 - acc: 0.4757 - val_loss: 1.0945 - val_acc: 0.4263\n",
            "Epoch 13/100\n",
            "16/16 [==============================] - 15s 945ms/step - loss: 0.9470 - acc: 0.5141 - val_loss: 1.0564 - val_acc: 0.3705\n",
            "Epoch 14/100\n",
            "16/16 [==============================] - 15s 913ms/step - loss: 0.9561 - acc: 0.5322 - val_loss: 1.1111 - val_acc: 0.3825\n",
            "Epoch 15/100\n",
            "16/16 [==============================] - 15s 933ms/step - loss: 0.9359 - acc: 0.5017 - val_loss: 1.0733 - val_acc: 0.4462\n",
            "Epoch 16/100\n",
            "16/16 [==============================] - 15s 931ms/step - loss: 0.9066 - acc: 0.5296 - val_loss: 1.0812 - val_acc: 0.4263\n",
            "Epoch 17/100\n",
            "16/16 [==============================] - 15s 969ms/step - loss: 0.8989 - acc: 0.5636 - val_loss: 1.0382 - val_acc: 0.4343\n",
            "Epoch 18/100\n",
            "16/16 [==============================] - 15s 985ms/step - loss: 0.9479 - acc: 0.5324 - val_loss: 1.0397 - val_acc: 0.4622\n",
            "Epoch 19/100\n",
            "16/16 [==============================] - 15s 948ms/step - loss: 0.9039 - acc: 0.5743 - val_loss: 1.2797 - val_acc: 0.3984\n",
            "Epoch 20/100\n",
            "16/16 [==============================] - 15s 930ms/step - loss: 0.9861 - acc: 0.4455 - val_loss: 1.0871 - val_acc: 0.4343\n",
            "Epoch 21/100\n",
            "16/16 [==============================] - 15s 945ms/step - loss: 0.9355 - acc: 0.4867 - val_loss: 1.0479 - val_acc: 0.4382\n",
            "Epoch 22/100\n",
            "16/16 [==============================] - 15s 926ms/step - loss: 0.9323 - acc: 0.5306 - val_loss: 1.1263 - val_acc: 0.4263\n",
            "Epoch 23/100\n",
            "16/16 [==============================] - 15s 910ms/step - loss: 0.8999 - acc: 0.5503 - val_loss: 1.2218 - val_acc: 0.3865\n",
            "Epoch 24/100\n",
            "16/16 [==============================] - 15s 922ms/step - loss: 0.8781 - acc: 0.5470 - val_loss: 1.0934 - val_acc: 0.3865\n",
            "Epoch 25/100\n",
            "16/16 [==============================] - 15s 913ms/step - loss: 0.9010 - acc: 0.5451 - val_loss: 1.2081 - val_acc: 0.3825\n",
            "Epoch 26/100\n",
            "16/16 [==============================] - 15s 929ms/step - loss: 0.9207 - acc: 0.5232 - val_loss: 1.0736 - val_acc: 0.3984\n",
            "Epoch 27/100\n",
            "16/16 [==============================] - 15s 921ms/step - loss: 0.8820 - acc: 0.5515 - val_loss: 1.1223 - val_acc: 0.3625\n",
            "Epoch 28/100\n",
            "16/16 [==============================] - 15s 921ms/step - loss: 0.8840 - acc: 0.5614 - val_loss: 1.0949 - val_acc: 0.3506\n",
            "Epoch 29/100\n",
            "16/16 [==============================] - 15s 925ms/step - loss: 0.8763 - acc: 0.5526 - val_loss: 1.1120 - val_acc: 0.4263\n",
            "Epoch 30/100\n",
            "16/16 [==============================] - 15s 946ms/step - loss: 0.8854 - acc: 0.5547 - val_loss: 1.0893 - val_acc: 0.4064\n",
            "Epoch 31/100\n",
            "16/16 [==============================] - 15s 926ms/step - loss: 0.9060 - acc: 0.5230 - val_loss: 1.0896 - val_acc: 0.4542\n",
            "Epoch 32/100\n",
            "16/16 [==============================] - 15s 929ms/step - loss: 0.8948 - acc: 0.5393 - val_loss: 1.1039 - val_acc: 0.4104\n",
            "Epoch 33/100\n",
            "16/16 [==============================] - 15s 919ms/step - loss: 0.8778 - acc: 0.5828 - val_loss: 1.1560 - val_acc: 0.3904\n",
            "Epoch 34/100\n",
            "16/16 [==============================] - 15s 935ms/step - loss: 0.8543 - acc: 0.5637 - val_loss: 1.0926 - val_acc: 0.4024\n",
            "Epoch 35/100\n",
            "16/16 [==============================] - 15s 912ms/step - loss: 0.8964 - acc: 0.5389 - val_loss: 1.1425 - val_acc: 0.3466\n",
            "Epoch 36/100\n",
            "16/16 [==============================] - 15s 951ms/step - loss: 0.8722 - acc: 0.5649 - val_loss: 1.0950 - val_acc: 0.4064\n",
            "Epoch 37/100\n",
            "16/16 [==============================] - 15s 917ms/step - loss: 0.8526 - acc: 0.5705 - val_loss: 1.1090 - val_acc: 0.3984\n",
            "Epoch 38/100\n",
            "16/16 [==============================] - 15s 955ms/step - loss: 0.9076 - acc: 0.5351 - val_loss: 1.0705 - val_acc: 0.4343\n",
            "Epoch 39/100\n",
            "16/16 [==============================] - 15s 971ms/step - loss: 0.8617 - acc: 0.5492 - val_loss: 1.0540 - val_acc: 0.4462\n",
            "Epoch 40/100\n",
            "16/16 [==============================] - 15s 924ms/step - loss: 0.8599 - acc: 0.5548 - val_loss: 1.2407 - val_acc: 0.3705\n",
            "Epoch 41/100\n",
            "16/16 [==============================] - 15s 917ms/step - loss: 0.8585 - acc: 0.5563 - val_loss: 1.1144 - val_acc: 0.4343\n",
            "Epoch 42/100\n",
            "16/16 [==============================] - 15s 918ms/step - loss: 0.8786 - acc: 0.5605 - val_loss: 1.0571 - val_acc: 0.4143\n",
            "Epoch 43/100\n",
            "16/16 [==============================] - 15s 906ms/step - loss: 0.8869 - acc: 0.5610 - val_loss: 1.1790 - val_acc: 0.4382\n",
            "Epoch 44/100\n",
            "16/16 [==============================] - 15s 904ms/step - loss: 0.9262 - acc: 0.5402 - val_loss: 1.0332 - val_acc: 0.4980\n",
            "Epoch 45/100\n",
            "16/16 [==============================] - 14s 904ms/step - loss: 0.8856 - acc: 0.5545 - val_loss: 1.0670 - val_acc: 0.3984\n",
            "Epoch 46/100\n",
            "16/16 [==============================] - 14s 902ms/step - loss: 0.8403 - acc: 0.5588 - val_loss: 1.0956 - val_acc: 0.3745\n",
            "Epoch 47/100\n",
            "16/16 [==============================] - 15s 913ms/step - loss: 0.8314 - acc: 0.5712 - val_loss: 1.1007 - val_acc: 0.3705\n",
            "Epoch 48/100\n",
            "16/16 [==============================] - 15s 922ms/step - loss: 0.8634 - acc: 0.5611 - val_loss: 1.1110 - val_acc: 0.4622\n",
            "Epoch 49/100\n",
            "16/16 [==============================] - 15s 918ms/step - loss: 0.8335 - acc: 0.5948 - val_loss: 1.2528 - val_acc: 0.4183\n",
            "Epoch 50/100\n",
            "16/16 [==============================] - 15s 922ms/step - loss: 0.9345 - acc: 0.5359 - val_loss: 1.1417 - val_acc: 0.3665\n",
            "Epoch 51/100\n",
            "16/16 [==============================] - 15s 923ms/step - loss: 0.8733 - acc: 0.5759 - val_loss: 1.1624 - val_acc: 0.3865\n",
            "Epoch 52/100\n",
            "16/16 [==============================] - 15s 913ms/step - loss: 0.8834 - acc: 0.5718 - val_loss: 1.0742 - val_acc: 0.4263\n",
            "Epoch 53/100\n",
            "16/16 [==============================] - 15s 910ms/step - loss: 0.8518 - acc: 0.5625 - val_loss: 1.2218 - val_acc: 0.3586\n",
            "Epoch 54/100\n",
            "16/16 [==============================] - 15s 917ms/step - loss: 0.8385 - acc: 0.5639 - val_loss: 1.0476 - val_acc: 0.4064\n",
            "Epoch 55/100\n",
            "16/16 [==============================] - 15s 920ms/step - loss: 0.8440 - acc: 0.6019 - val_loss: 1.1104 - val_acc: 0.3586\n",
            "Epoch 56/100\n",
            "16/16 [==============================] - 15s 912ms/step - loss: 0.8347 - acc: 0.6030 - val_loss: 1.1034 - val_acc: 0.3825\n",
            "Epoch 57/100\n",
            "16/16 [==============================] - 15s 910ms/step - loss: 0.8271 - acc: 0.5755 - val_loss: 1.0767 - val_acc: 0.3865\n",
            "Epoch 58/100\n",
            "16/16 [==============================] - 15s 935ms/step - loss: 0.8418 - acc: 0.5635 - val_loss: 1.1654 - val_acc: 0.4024\n",
            "Epoch 59/100\n",
            "16/16 [==============================] - 15s 916ms/step - loss: 0.8637 - acc: 0.5777 - val_loss: 1.1982 - val_acc: 0.3984\n",
            "Epoch 60/100\n",
            "16/16 [==============================] - 15s 913ms/step - loss: 0.8297 - acc: 0.5396 - val_loss: 1.1003 - val_acc: 0.3825\n",
            "Epoch 61/100\n",
            "16/16 [==============================] - 14s 901ms/step - loss: 0.8540 - acc: 0.5694 - val_loss: 1.1084 - val_acc: 0.3944\n",
            "Epoch 62/100\n",
            "16/16 [==============================] - 15s 923ms/step - loss: 0.8456 - acc: 0.5930 - val_loss: 1.2321 - val_acc: 0.3825\n",
            "Epoch 63/100\n",
            "16/16 [==============================] - 15s 938ms/step - loss: 0.8257 - acc: 0.5748 - val_loss: 1.0694 - val_acc: 0.4104\n",
            "Epoch 64/100\n",
            "16/16 [==============================] - 15s 927ms/step - loss: 0.8298 - acc: 0.5961 - val_loss: 1.1442 - val_acc: 0.3347\n",
            "Epoch 65/100\n",
            "16/16 [==============================] - 15s 912ms/step - loss: 0.8352 - acc: 0.5652 - val_loss: 1.2467 - val_acc: 0.3745\n",
            "Epoch 66/100\n",
            "16/16 [==============================] - 14s 904ms/step - loss: 0.8277 - acc: 0.6028 - val_loss: 1.1382 - val_acc: 0.3466\n",
            "Epoch 67/100\n",
            "16/16 [==============================] - 14s 904ms/step - loss: 0.8584 - acc: 0.5812 - val_loss: 1.0678 - val_acc: 0.3705\n",
            "Epoch 68/100\n",
            "16/16 [==============================] - 15s 918ms/step - loss: 0.8105 - acc: 0.6025 - val_loss: 1.1757 - val_acc: 0.3944\n",
            "Epoch 69/100\n",
            "16/16 [==============================] - 14s 904ms/step - loss: 0.7906 - acc: 0.6053 - val_loss: 1.1530 - val_acc: 0.3187\n",
            "Epoch 70/100\n",
            "16/16 [==============================] - 15s 914ms/step - loss: 0.7536 - acc: 0.6340 - val_loss: 1.1534 - val_acc: 0.3347\n",
            "Epoch 71/100\n",
            "16/16 [==============================] - 14s 903ms/step - loss: 0.7874 - acc: 0.6016 - val_loss: 1.1342 - val_acc: 0.4064\n",
            "Epoch 72/100\n",
            "16/16 [==============================] - 14s 903ms/step - loss: 0.7898 - acc: 0.6136 - val_loss: 1.1430 - val_acc: 0.3865\n",
            "Epoch 73/100\n",
            "16/16 [==============================] - 15s 909ms/step - loss: 0.7902 - acc: 0.6270 - val_loss: 1.1047 - val_acc: 0.3625\n",
            "Epoch 74/100\n",
            "16/16 [==============================] - 14s 896ms/step - loss: 0.8186 - acc: 0.5650 - val_loss: 1.1164 - val_acc: 0.3665\n",
            "Epoch 75/100\n",
            "16/16 [==============================] - 14s 903ms/step - loss: 0.7721 - acc: 0.6255 - val_loss: 1.1132 - val_acc: 0.3825\n",
            "Epoch 76/100\n",
            "16/16 [==============================] - 14s 900ms/step - loss: 0.7954 - acc: 0.6103 - val_loss: 1.1727 - val_acc: 0.3904\n",
            "Epoch 77/100\n",
            "16/16 [==============================] - 14s 904ms/step - loss: 0.7631 - acc: 0.6473 - val_loss: 1.0981 - val_acc: 0.3745\n",
            "Epoch 78/100\n",
            "16/16 [==============================] - 14s 897ms/step - loss: 0.7739 - acc: 0.6199 - val_loss: 1.1724 - val_acc: 0.4183\n",
            "Epoch 79/100\n",
            "16/16 [==============================] - 14s 905ms/step - loss: 0.7657 - acc: 0.6164 - val_loss: 1.1698 - val_acc: 0.3028\n",
            "Epoch 80/100\n",
            "16/16 [==============================] - 14s 902ms/step - loss: 0.7941 - acc: 0.5990 - val_loss: 1.2716 - val_acc: 0.3506\n",
            "Epoch 81/100\n",
            "16/16 [==============================] - 14s 905ms/step - loss: 0.7880 - acc: 0.6182 - val_loss: 1.2063 - val_acc: 0.3307\n",
            "Epoch 82/100\n",
            "16/16 [==============================] - 15s 906ms/step - loss: 0.8148 - acc: 0.6158 - val_loss: 1.2453 - val_acc: 0.3466\n",
            "Epoch 83/100\n",
            "16/16 [==============================] - 14s 897ms/step - loss: 0.7672 - acc: 0.6230 - val_loss: 1.1568 - val_acc: 0.3466\n",
            "Epoch 84/100\n",
            "16/16 [==============================] - 14s 935ms/step - loss: 0.7617 - acc: 0.6040 - val_loss: 1.2111 - val_acc: 0.3386\n",
            "Epoch 85/100\n",
            "16/16 [==============================] - 15s 911ms/step - loss: 0.8033 - acc: 0.6030 - val_loss: 1.2079 - val_acc: 0.3705\n",
            "Epoch 86/100\n",
            "16/16 [==============================] - 15s 912ms/step - loss: 0.7481 - acc: 0.6402 - val_loss: 1.1895 - val_acc: 0.3625\n",
            "Epoch 87/100\n",
            "16/16 [==============================] - 14s 899ms/step - loss: 0.7247 - acc: 0.6789 - val_loss: 1.1090 - val_acc: 0.3825\n",
            "Epoch 88/100\n",
            "16/16 [==============================] - 14s 903ms/step - loss: 0.7369 - acc: 0.6524 - val_loss: 1.1951 - val_acc: 0.3386\n",
            "Epoch 89/100\n",
            "16/16 [==============================] - 15s 908ms/step - loss: 0.6831 - acc: 0.6762 - val_loss: 1.1196 - val_acc: 0.3466\n",
            "Epoch 90/100\n",
            "16/16 [==============================] - 15s 909ms/step - loss: 0.7562 - acc: 0.6428 - val_loss: 1.2063 - val_acc: 0.3865\n",
            "Epoch 91/100\n",
            "16/16 [==============================] - 15s 908ms/step - loss: 0.7097 - acc: 0.6349 - val_loss: 1.2587 - val_acc: 0.3347\n",
            "Epoch 92/100\n",
            "16/16 [==============================] - 14s 905ms/step - loss: 0.7295 - acc: 0.6736 - val_loss: 1.2189 - val_acc: 0.3665\n",
            "Epoch 93/100\n",
            "16/16 [==============================] - 14s 895ms/step - loss: 0.7685 - acc: 0.6270 - val_loss: 1.1186 - val_acc: 0.3386\n",
            "Epoch 94/100\n",
            "16/16 [==============================] - 14s 898ms/step - loss: 0.7263 - acc: 0.6436 - val_loss: 1.1398 - val_acc: 0.3904\n",
            "Epoch 95/100\n",
            "16/16 [==============================] - 14s 897ms/step - loss: 0.7333 - acc: 0.6347 - val_loss: 1.2648 - val_acc: 0.2988\n",
            "Epoch 96/100\n",
            "16/16 [==============================] - 14s 897ms/step - loss: 0.7567 - acc: 0.6241 - val_loss: 1.2589 - val_acc: 0.3506\n",
            "Epoch 97/100\n",
            "16/16 [==============================] - 14s 898ms/step - loss: 0.7185 - acc: 0.6621 - val_loss: 1.1425 - val_acc: 0.3944\n",
            "Epoch 98/100\n",
            "16/16 [==============================] - 14s 897ms/step - loss: 0.7003 - acc: 0.6420 - val_loss: 1.2104 - val_acc: 0.3625\n",
            "Epoch 99/100\n",
            "16/16 [==============================] - 14s 890ms/step - loss: 0.7676 - acc: 0.6297 - val_loss: 1.3119 - val_acc: 0.3506\n",
            "Epoch 100/100\n",
            "16/16 [==============================] - 14s 900ms/step - loss: 0.7103 - acc: 0.6593 - val_loss: 1.1579 - val_acc: 0.3586\n"
          ],
          "name": "stdout"
        }
      ]
    },
    {
      "cell_type": "markdown",
      "metadata": {
        "id": "8iN51d-xNJhB"
      },
      "source": [
        "# Menampilkan Hasil Pelatihan"
      ]
    },
    {
      "cell_type": "code",
      "metadata": {
        "colab": {
          "background_save": true
        },
        "id": "dK0JIgi2LOVi",
        "outputId": "e59dc387-3375-4a80-bd56-e926e92bcbc0"
      },
      "source": [
        "plt.plot(history.history[\"acc\"],label=\"Training Accuracy\")\n",
        "plt.plot(history.history[\"val_acc\"],label=\"Validation Accuracy\")\n",
        "plt.legend()\n",
        "plt.show()\n",
        "\n",
        "plt.plot(history.history[\"loss\"],label=\"Training Loss\")\n",
        "plt.plot(history.history[\"val_loss\"],label=\"Validation Loss\")\n",
        "plt.legend()\n",
        "plt.show()"
      ],
      "execution_count": null,
      "outputs": [
        {
          "output_type": "display_data",
          "data": {
            "image/png": "[encoded data removed]",
            "text/plain": [
              "<Figure size 640x480 with 1 Axes>"
            ]
          },
          "metadata": {
            "tags": []
          }
        },
        {
          "output_type": "display_data",
          "data": {
            "image/png": "[encoded data removed]",
            "text/plain": [
              "<Figure size 640x480 with 1 Axes>"
            ]
          },
          "metadata": {
            "tags": []
          }
        }
      ]
    },
    {
      "cell_type": "markdown",
      "metadata": {
        "id": "9uVvPRuNyo2z"
      },
      "source": [
        "# Memuat Dataset Pengujian"
      ]
    },
    {
      "cell_type": "code",
      "metadata": {
        "colab": {
          "background_save": true
        },
        "id": "ux55Q_SiysJO"
      },
      "source": [
        "y_test2 = to_categorical(y_test)\n",
        "X_test3, y_test3 = (X_test, y_test2)"
      ],
      "execution_count": null,
      "outputs": []
    },
    {
      "cell_type": "markdown",
      "metadata": {
        "id": "G4xOILgHyz8U"
      },
      "source": [
        "# Mengevaluasi Model"
      ]
    },
    {
      "cell_type": "code",
      "metadata": {
        "colab": {
          "background_save": true
        },
        "id": "1w-YNZGHy3PZ",
        "outputId": "3033a100-7ce1-4c41-c95b-976f30195ff4"
      },
      "source": [
        "#Menampilkan matriks yang benar dan matriks hasil prediksi\n",
        "\n",
        "#Label yang benar\n",
        "y_true = np.argmax(y_test2,axis=1)\n",
        "\n",
        "X_test = np.repeat(np.expand_dims(X_test, axis=3), 3, axis=3)\n",
        "#Label prediksi\n",
        "Y_pred = model.predict(X_test)\n",
        "y_pred = np.argmax(Y_pred, axis=1)\n",
        "\n",
        "print(y_true)\n",
        "print(y_pred)"
      ],
      "execution_count": null,
      "outputs": [
        {
          "output_type": "stream",
          "text": [
            "[0 0 0 0 0 0 0 0 0 0 0 0 0 0 0 0 0 0 0 0 0 0 0 0 0 0 0 0 0 0 0 0 0 0 0 0 0\n",
            " 0 0 0 0 0 0 0 0 0 0 0 0 0 0 0 0 0 0 0 0 0 0 0 0 0 0 0 0 0 0 0 0 0 0 0 0 0\n",
            " 0 0 0 0 0 0 0 0 0 0 0 0 0 0 0 0 0 0 0 0 0 0 0 0 0 0 0 0 0 0 0 0 0 1 1 1 1\n",
            " 1 1 1 1 1 1 1 1 1 1 1 1 1 1 1 1 1 1 1 1 1 1 1 1 1 1 1 1 1 1 1 1 1 1 1 1 1\n",
            " 1 1 1 1 1 1 1 1 1 1 1 1 1 1 1 1 1 1 1 1 1 1 1 1 1 1 1 1 1 1 1 1 1 1 1 1 1\n",
            " 1 1 1 1 1 1 1 1 1 1 1 1 1 1 1 1 1 1 1 1 1 1 1 1 1 1 1 1 1 1 1 1 1 2 2 2 2\n",
            " 2 2 2 2 2 2 2 2 2 2 2 2 2 2 2 2 2 2 2 2 2 2 2 2 2 2 2 2 2 2 2 2 2 2 2 2 2\n",
            " 2 2 2 2 2 2 2 2 2 2 2 2 2 2 2 2 2 2 2 2 2 2 2 2 2 2 2 2 2 2 2 2 2 2 2 2 2\n",
            " 2 2 2 2 2 2 2 2 2 2 2 2 2 2 2 2 2 2 2 2]\n",
            "[0 0 0 0 0 0 0 0 0 0 0 0 0 0 0 0 0 0 0 0 0 0 0 0 0 0 0 0 0 0 0 0 0 0 0 0 0\n",
            " 0 0 0 0 0 0 0 0 0 0 0 0 0 0 1 0 0 1 0 0 0 0 1 0 0 0 0 0 0 0 0 0 0 0 0 0 0\n",
            " 0 0 0 0 0 0 0 0 0 0 0 0 0 0 0 0 0 0 0 0 0 0 0 0 0 0 0 0 0 0 0 0 0 1 1 1 0\n",
            " 0 1 0 1 0 1 0 0 1 0 0 0 1 0 2 1 0 0 2 1 0 0 0 0 2 0 1 0 1 0 1 1 0 1 1 0 1\n",
            " 2 1 2 0 1 0 1 1 1 0 0 1 1 0 0 1 0 0 0 1 1 0 1 1 0 1 0 0 1 1 1 0 1 1 1 1 1\n",
            " 1 0 1 0 0 1 0 1 1 1 1 1 1 1 1 1 1 1 1 1 1 1 1 1 1 1 1 0 1 2 1 1 1 1 1 1 1\n",
            " 1 1 1 1 0 1 1 0 1 1 1 1 1 1 0 1 0 2 0 2 0 0 1 2 1 2 1 2 1 1 2 0 0 0 2 0 2\n",
            " 0 2 2 2 2 2 1 2 2 2 1 1 1 2 2 2 2 0 0 0 0 0 1 2 2 0 2 2 2 2 2 2 2 2 2 2 1\n",
            " 2 0 2 2 0 0 1 1 1 1 1 1 1 1 2 1 1 2 1 2]\n"
          ],
          "name": "stdout"
        }
      ]
    },
    {
      "cell_type": "markdown",
      "metadata": {
        "id": "3nWovNwNNPSS"
      },
      "source": [
        "# Menggunakan Model"
      ]
    },
    {
      "cell_type": "code",
      "metadata": {
        "colab": {
          "background_save": true
        },
        "id": "63DCEjBgLYR0",
        "outputId": "197bde57-7834-472a-db6d-6d5f52507ff7"
      },
      "source": [
        "print('Number of trainable variables = {}'.format(len(model.trainable_variables)))"
      ],
      "execution_count": null,
      "outputs": [
        {
          "output_type": "stream",
          "text": [
            "Number of trainable variables = 10\n"
          ],
          "name": "stdout"
        }
      ]
    },
    {
      "cell_type": "markdown",
      "metadata": {
        "id": "gnycI6tdzQZ7"
      },
      "source": [
        "# Memprediksi Citra Secara Individu"
      ]
    },
    {
      "cell_type": "code",
      "metadata": {
        "colab": {
          "background_save": true
        },
        "id": "fsFCpQoBLr5y",
        "outputId": "14e2edf7-489a-4ff2-bf53-1cc65b107749"
      },
      "source": [
        "n = 74 #Jangan melampaui (nilai dari gambar test - 1)\n",
        "\n",
        "plt.imshow(X_test[n])\n",
        "plt.show()\n",
        "\n",
        "true_label = np.argmax(y_test2,axis=1)[n]\n",
        "print(\"Label yang benar adalah:\",true_label,\":\",labels[true_label])\n",
        "prediction = model.predict(X_test[n][np.newaxis,...])[0]\n",
        "print(\"Nilai yang diprediksi adalah:\",prediction)\n",
        "predicted_label = np.argmax(prediction)\n",
        "print(\"Label yang diprediksi adalah:\",predicted_label,\":\",labels[predicted_label])\n",
        "\n",
        "if true_label == predicted_label:\n",
        "    print(\"Prediksi benar\")\n",
        "else:\n",
        "    print(\"Prediksi salah\")"
      ],
      "execution_count": null,
      "outputs": [
        {
          "output_type": "display_data",
          "data": {
            "image/png": "[encoded data removed]",
            "text/plain": [
              "<Figure size 640x480 with 1 Axes>"
            ]
          },
          "metadata": {
            "tags": []
          }
        },
        {
          "output_type": "stream",
          "text": [
            "Label yang benar adalah: 0 : Control\n",
            "Nilai yang diprediksi adalah: [0.9824004  0.00456587 0.0130338 ]\n",
            "Label yang diprediksi adalah: 0 : Control\n",
            "Prediksi benar\n"
          ],
          "name": "stdout"
        }
      ]
    },
    {
      "cell_type": "markdown",
      "metadata": {
        "id": "-lf_8Nkxze14"
      },
      "source": [
        "# Confusion Matrix"
      ]
    },
    {
      "cell_type": "code",
      "metadata": {
        "colab": {
          "background_save": true
        },
        "id": "5Xp-a3UWzhdB",
        "outputId": "d94a68ca-4d65-48ec-b5b3-3d2510db349b"
      },
      "source": [
        "from sklearn.metrics import confusion_matrix\n",
        "from sklearn.utils.multiclass import unique_labels\n",
        "\n",
        "def plot_confusion_matrix(y_true, y_pred, classes,\n",
        "                          normalize=False,\n",
        "                          title=None,\n",
        "                          cmap=plt.cm.Blues):\n",
        "    \"\"\"\n",
        "    This function prints and plots the confusion matrix.\n",
        "    Normalization can be applied by setting `normalize=True`.\n",
        "    \"\"\"\n",
        "    if not title:\n",
        "        if normalize:\n",
        "            title = 'Normalized confusion matrix'\n",
        "        else:\n",
        "            title = 'Confusion matrix, without normalization'\n",
        "\n",
        "    # Compute confusion matrix\n",
        "    cm = confusion_matrix(y_true, y_pred)\n",
        "    # Only use the labels that appear in the data\n",
        "    #classes = classes[unique_labels(y_true, y_pred)]\n",
        "    if normalize:\n",
        "        cm = cm.astype('float') / cm.sum(axis=1)[:, np.newaxis]\n",
        "        print(\"Normalized confusion matrix\")\n",
        "    else:\n",
        "        print('Confusion matrix, without normalization')\n",
        "\n",
        "    print(cm)\n",
        "\n",
        "    fig, ax = plt.subplots(figsize=(5,5))\n",
        "    im = ax.imshow(cm, interpolation='nearest', cmap=cmap)\n",
        "    #ax.figure.colorbar(im, ax=ax)\n",
        "    # We want to show all ticks...\n",
        "    ax.set(xticks=np.arange(cm.shape[1]),\n",
        "           yticks=np.arange(cm.shape[0]),\n",
        "           # ... and label them with the respective list entries\n",
        "           xticklabels=classes, yticklabels=classes,\n",
        "           title=title,\n",
        "           ylabel='Truth',\n",
        "           xlabel='Prediction')\n",
        "\n",
        "    # Rotate the tick labels and set their alignment.\n",
        "    plt.setp(ax.get_xticklabels(), rotation=45, ha=\"right\",\n",
        "             rotation_mode=\"anchor\")\n",
        "\n",
        "    # Loop over data dimensions and create text annotations.\n",
        "    fmt = '.2f' if normalize else 'd'\n",
        "    thresh = cm.max() / 2.\n",
        "    for i in range(cm.shape[0]):\n",
        "        for j in range(cm.shape[1]):\n",
        "            ax.text(j, i, format(cm[i, j], fmt),\n",
        "                    ha=\"center\", va=\"center\",\n",
        "                    color=\"white\" if cm[i, j] > thresh else \"black\")\n",
        "    fig.tight_layout()\n",
        "    return ax\n",
        "\n",
        "\n",
        "np.set_printoptions(precision=2)\n",
        "\n",
        "plot_confusion_matrix(y_true, y_pred, classes=labels, normalize=True,\n",
        "                      title='Normalized confusion matrix')"
      ],
      "execution_count": null,
      "outputs": [
        {
          "output_type": "stream",
          "text": [
            "Normalized confusion matrix\n",
            "[[0.97 0.03 0.  ]\n",
            " [0.36 0.59 0.05]\n",
            " [0.21 0.4  0.39]]\n"
          ],
          "name": "stdout"
        },
        {
          "output_type": "execute_result",
          "data": {
            "text/plain": [
              "<matplotlib.axes._subplots.AxesSubplot at 0x7fb121d2b9d0>"
            ]
          },
          "metadata": {
            "tags": []
          },
          "execution_count": 0
        },
        {
          "output_type": "display_data",
          "data": {
            "image/png": "[encoded data removed]",
            "text/plain": [
              "<Figure size 500x500 with 1 Axes>"
            ]
          },
          "metadata": {
            "tags": []
          }
        }
      ]
    },
    {
      "cell_type": "code",
      "metadata": {
        "colab": {
          "background_save": true
        },
        "id": "gpuFRWiBmat8",
        "outputId": "2abd0538-890d-43e3-ca72-e94271b43b79"
      },
      "source": [
        "from sklearn.metrics import classification_report\n",
        "print (classification_report(y_true, y_pred))"
      ],
      "execution_count": null,
      "outputs": [
        {
          "output_type": "stream",
          "text": [
            "              precision    recall  f1-score   support\n",
            "\n",
            "           0       0.63      0.97      0.76       107\n",
            "           1       0.61      0.59      0.60       111\n",
            "           2       0.86      0.39      0.54        98\n",
            "\n",
            "    accuracy                           0.66       316\n",
            "   macro avg       0.70      0.65      0.63       316\n",
            "weighted avg       0.69      0.66      0.63       316\n",
            "\n"
          ],
          "name": "stdout"
        }
      ]
    },
    {
      "cell_type": "code",
      "metadata": {
        "colab": {
          "background_save": true
        },
        "id": "0800SYRymc3T",
        "outputId": "a861913b-7743-45fe-fe58-c5516e88cba0"
      },
      "source": [
        "from sklearn.metrics import auc\n",
        "print (auc(y_true, y_pred))"
      ],
      "execution_count": null,
      "outputs": [
        {
          "output_type": "stream",
          "text": [
            "1.5\n"
          ],
          "name": "stdout"
        }
      ]
    },
    {
      "cell_type": "markdown",
      "metadata": {
        "id": "eeYpuBBe-TzK"
      },
      "source": [
        "# Menyimpan dan mengkonversi Model ke \".tflite\""
      ]
    },
    {
      "cell_type": "code",
      "metadata": {
        "id": "8pKV3k8d-SJ-"
      },
      "source": [
        "saved_model_dir = 'save/model'\n",
        "tf.saved_model.save(model, saved_model_dir)\n",
        "\n",
        "converter = tf.lite.TFLiteConverter.from_saved_model(saved_model_dir)\n",
        "tflite_model = converter.convert()\n",
        "\n",
        "with open('CTScans_for_Covid19_Classification_MobileNet.tflite', 'wb') as f:\n",
        "  f.write(tflite_model)"
      ],
      "execution_count": null,
      "outputs": []
    }
  ]
}
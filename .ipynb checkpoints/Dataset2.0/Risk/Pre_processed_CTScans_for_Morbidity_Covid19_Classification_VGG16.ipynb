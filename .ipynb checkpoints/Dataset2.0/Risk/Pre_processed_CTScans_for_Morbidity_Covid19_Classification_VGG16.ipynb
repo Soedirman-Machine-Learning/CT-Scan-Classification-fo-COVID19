{
  "nbformat": 4,
  "nbformat_minor": 0,
  "metadata": {
    "accelerator": "GPU",
    "colab": {
      "name": "Pre_processed_CTScans_for_Morbidity_Covid19_Classification_VGG16.ipynb",
      "provenance": [],
      "collapsed_sections": [
        "3ZS3nylQwauE",
        "eeYpuBBe-TzK"
      ],
      "toc_visible": true
    },
    "kernelspec": {
      "display_name": "Python 3",
      "name": "python3"
    },
    "widgets": {
      "application/vnd.jupyter.widget-state+json": {
        "6efc532b230c4ff0ac7d702a753616f7": {
          "model_module": "@jupyter-widgets/controls",
          "model_name": "HBoxModel",
          "state": {
            "_view_name": "HBoxView",
            "_dom_classes": [],
            "_model_name": "HBoxModel",
            "_view_module": "@jupyter-widgets/controls",
            "_model_module_version": "1.5.0",
            "_view_count": null,
            "_view_module_version": "1.5.0",
            "box_style": "",
            "layout": "IPY_MODEL_184e63e7a31b47bda59b9a4d656c3147",
            "_model_module": "@jupyter-widgets/controls",
            "children": [
              "IPY_MODEL_d90af904eef14544b8628395c345d804",
              "IPY_MODEL_f41d150298fb4058a7dba1b408868f51"
            ]
          }
        },
        "184e63e7a31b47bda59b9a4d656c3147": {
          "model_module": "@jupyter-widgets/base",
          "model_name": "LayoutModel",
          "state": {
            "_view_name": "LayoutView",
            "grid_template_rows": null,
            "right": null,
            "justify_content": null,
            "_view_module": "@jupyter-widgets/base",
            "overflow": null,
            "_model_module_version": "1.2.0",
            "_view_count": null,
            "flex_flow": null,
            "width": null,
            "min_width": null,
            "border": null,
            "align_items": null,
            "bottom": null,
            "_model_module": "@jupyter-widgets/base",
            "top": null,
            "grid_column": null,
            "overflow_y": null,
            "overflow_x": null,
            "grid_auto_flow": null,
            "grid_area": null,
            "grid_template_columns": null,
            "flex": null,
            "_model_name": "LayoutModel",
            "justify_items": null,
            "grid_row": null,
            "max_height": null,
            "align_content": null,
            "visibility": null,
            "align_self": null,
            "height": null,
            "min_height": null,
            "padding": null,
            "grid_auto_rows": null,
            "grid_gap": null,
            "max_width": null,
            "order": null,
            "_view_module_version": "1.2.0",
            "grid_template_areas": null,
            "object_position": null,
            "object_fit": null,
            "grid_auto_columns": null,
            "margin": null,
            "display": null,
            "left": null
          }
        },
        "d90af904eef14544b8628395c345d804": {
          "model_module": "@jupyter-widgets/controls",
          "model_name": "FloatProgressModel",
          "state": {
            "_view_name": "ProgressView",
            "style": "IPY_MODEL_801952bcc3294c42a95d07f122d54798",
            "_dom_classes": [],
            "description": "",
            "_model_name": "FloatProgressModel",
            "bar_style": "success",
            "max": 1,
            "_view_module": "@jupyter-widgets/controls",
            "_model_module_version": "1.5.0",
            "value": 1,
            "_view_count": null,
            "_view_module_version": "1.5.0",
            "orientation": "horizontal",
            "min": 0,
            "description_tooltip": null,
            "_model_module": "@jupyter-widgets/controls",
            "layout": "IPY_MODEL_494a58e40e2f4369af95e9b0f976853c"
          }
        },
        "f41d150298fb4058a7dba1b408868f51": {
          "model_module": "@jupyter-widgets/controls",
          "model_name": "HTMLModel",
          "state": {
            "_view_name": "HTMLView",
            "style": "IPY_MODEL_29ad338975344437a2cfd583dfffe2c6",
            "_dom_classes": [],
            "description": "",
            "_model_name": "HTMLModel",
            "placeholder": "​",
            "_view_module": "@jupyter-widgets/controls",
            "_model_module_version": "1.5.0",
            "value": " 1578/? [05:50&lt;00:00,  4.51it/s]",
            "_view_count": null,
            "_view_module_version": "1.5.0",
            "description_tooltip": null,
            "_model_module": "@jupyter-widgets/controls",
            "layout": "IPY_MODEL_77d096764278494da12361a33864c101"
          }
        },
        "801952bcc3294c42a95d07f122d54798": {
          "model_module": "@jupyter-widgets/controls",
          "model_name": "ProgressStyleModel",
          "state": {
            "_view_name": "StyleView",
            "_model_name": "ProgressStyleModel",
            "description_width": "initial",
            "_view_module": "@jupyter-widgets/base",
            "_model_module_version": "1.5.0",
            "_view_count": null,
            "_view_module_version": "1.2.0",
            "bar_color": null,
            "_model_module": "@jupyter-widgets/controls"
          }
        },
        "494a58e40e2f4369af95e9b0f976853c": {
          "model_module": "@jupyter-widgets/base",
          "model_name": "LayoutModel",
          "state": {
            "_view_name": "LayoutView",
            "grid_template_rows": null,
            "right": null,
            "justify_content": null,
            "_view_module": "@jupyter-widgets/base",
            "overflow": null,
            "_model_module_version": "1.2.0",
            "_view_count": null,
            "flex_flow": null,
            "width": null,
            "min_width": null,
            "border": null,
            "align_items": null,
            "bottom": null,
            "_model_module": "@jupyter-widgets/base",
            "top": null,
            "grid_column": null,
            "overflow_y": null,
            "overflow_x": null,
            "grid_auto_flow": null,
            "grid_area": null,
            "grid_template_columns": null,
            "flex": null,
            "_model_name": "LayoutModel",
            "justify_items": null,
            "grid_row": null,
            "max_height": null,
            "align_content": null,
            "visibility": null,
            "align_self": null,
            "height": null,
            "min_height": null,
            "padding": null,
            "grid_auto_rows": null,
            "grid_gap": null,
            "max_width": null,
            "order": null,
            "_view_module_version": "1.2.0",
            "grid_template_areas": null,
            "object_position": null,
            "object_fit": null,
            "grid_auto_columns": null,
            "margin": null,
            "display": null,
            "left": null
          }
        },
        "29ad338975344437a2cfd583dfffe2c6": {
          "model_module": "@jupyter-widgets/controls",
          "model_name": "DescriptionStyleModel",
          "state": {
            "_view_name": "StyleView",
            "_model_name": "DescriptionStyleModel",
            "description_width": "",
            "_view_module": "@jupyter-widgets/base",
            "_model_module_version": "1.5.0",
            "_view_count": null,
            "_view_module_version": "1.2.0",
            "_model_module": "@jupyter-widgets/controls"
          }
        },
        "77d096764278494da12361a33864c101": {
          "model_module": "@jupyter-widgets/base",
          "model_name": "LayoutModel",
          "state": {
            "_view_name": "LayoutView",
            "grid_template_rows": null,
            "right": null,
            "justify_content": null,
            "_view_module": "@jupyter-widgets/base",
            "overflow": null,
            "_model_module_version": "1.2.0",
            "_view_count": null,
            "flex_flow": null,
            "width": null,
            "min_width": null,
            "border": null,
            "align_items": null,
            "bottom": null,
            "_model_module": "@jupyter-widgets/base",
            "top": null,
            "grid_column": null,
            "overflow_y": null,
            "overflow_x": null,
            "grid_auto_flow": null,
            "grid_area": null,
            "grid_template_columns": null,
            "flex": null,
            "_model_name": "LayoutModel",
            "justify_items": null,
            "grid_row": null,
            "max_height": null,
            "align_content": null,
            "visibility": null,
            "align_self": null,
            "height": null,
            "min_height": null,
            "padding": null,
            "grid_auto_rows": null,
            "grid_gap": null,
            "max_width": null,
            "order": null,
            "_view_module_version": "1.2.0",
            "grid_template_areas": null,
            "object_position": null,
            "object_fit": null,
            "grid_auto_columns": null,
            "margin": null,
            "display": null,
            "left": null
          }
        }
      }
    }
  },
  "cells": [
    {
      "cell_type": "markdown",
      "metadata": {
        "id": "t4UcDXd4vhXr"
      },
      "source": [
        "# Mengimpor Dataset dari Google Drive"
      ]
    },
    {
      "cell_type": "code",
      "metadata": {
        "colab": {
          "base_uri": "https://localhost:8080/"
        },
        "id": "V0NpYNMFxs55",
        "outputId": "951c2d94-7a67-48d0-fed3-f3ee51846ffa"
      },
      "source": [
        "from google.colab import drive\n",
        "drive.mount('/content/gdrive')"
      ],
      "execution_count": 1,
      "outputs": [
        {
          "output_type": "stream",
          "text": [
            "Mounted at /content/gdrive\n"
          ],
          "name": "stdout"
        }
      ]
    },
    {
      "cell_type": "markdown",
      "metadata": {
        "id": "r-qyXnKFMIHj"
      },
      "source": [
        "# Mengimpor fungsi library"
      ]
    },
    {
      "cell_type": "code",
      "metadata": {
        "id": "o3KGazgCxy4H"
      },
      "source": [
        "from __future__ import absolute_import, division, print_function, unicode_literals\n",
        "\n",
        "try:\n",
        "  # The %tensorflow_version magic only works in colab.\n",
        "  %tensorflow_version 2.x\n",
        "except Exception:\n",
        "  pass\n",
        "import numpy as np \n",
        "import math, os, sys\n",
        "import itertools\n",
        "import os\n",
        "\n",
        "import matplotlib.pyplot as plt\n",
        "plt.style.use('default')\n",
        "from scipy import ndimage\n",
        "\n",
        "from skimage import measure, morphology\n",
        "from skimage.io import imsave, imread\n",
        "from skimage.filters import threshold_otsu\n",
        "from skimage.transform import resize\n",
        "from skimage import io \n",
        "from skimage.transform import rotate, AffineTransform, warp\n",
        "from skimage import img_as_ubyte\n",
        "from skimage.util import random_noise\n",
        "\n",
        "import tensorflow as tf\n",
        "from sklearn import svm, datasets\n",
        "from sklearn.metrics import confusion_matrix\n",
        "import pandas as pd\n",
        "\n",
        "import random"
      ],
      "execution_count": 3,
      "outputs": []
    },
    {
      "cell_type": "markdown",
      "metadata": {
        "id": "Vjr6CepIvxlP"
      },
      "source": [
        "# Membuat Dataframe untuk Dataset"
      ]
    },
    {
      "cell_type": "code",
      "metadata": {
        "id": "4hdNthFMMAmA"
      },
      "source": [
        "mypath= '/content/gdrive/Shareddrives/Soedirman-Machine-Learning/CT SCAN COVID-19/New Risk (pre-process)'\n",
        "\n",
        "file_name = []\n",
        "tag = []\n",
        "full_path = []\n",
        "for path, subdirs, files in os.walk(mypath):\n",
        "    for name in files:\n",
        "        full_path.append(os.path.join(path, name)) \n",
        "        tag.append(path.split('/')[-1])        \n",
        "        file_name.append(name)"
      ],
      "execution_count": 4,
      "outputs": []
    },
    {
      "cell_type": "code",
      "metadata": {
        "colab": {
          "base_uri": "https://localhost:8080/"
        },
        "id": "RIxRFpLwMCFx",
        "outputId": "d880eedd-6a50-4684-fb46-d52538dac610"
      },
      "source": [
        "# memasukan variabel yang sudah dikumpulkan pada looping di atas menjadi sebuah dataframe agar rapih\n",
        "df = pd.DataFrame({\"path\":full_path,'file_name':file_name,\"tag\":tag})\n",
        "df.groupby(['tag']).size()"
      ],
      "execution_count": 5,
      "outputs": [
        {
          "output_type": "execute_result",
          "data": {
            "text/plain": [
              "tag\n",
              "Control    506\n",
              "Type I     572\n",
              "Type II    500\n",
              "dtype: int64"
            ]
          },
          "metadata": {
            "tags": []
          },
          "execution_count": 5
        }
      ]
    },
    {
      "cell_type": "markdown",
      "metadata": {
        "id": "uRGOWfVmv4AQ"
      },
      "source": [
        "# Membagi Dataset ke dalam Bentuk Train Data dan Test Data"
      ]
    },
    {
      "cell_type": "code",
      "metadata": {
        "id": "rZu76IuoMHMd"
      },
      "source": [
        "#load library untuk train test split\n",
        "from sklearn.model_selection import train_test_split\n",
        "\n",
        "#variabel yang digunakan pada pemisahan data ini\n",
        "X= df['path']\n",
        "y= df['tag']\n",
        "\n",
        "# split dataset awal menjadi data train dan test\n",
        "X_train, X_test, y_train, y_test = train_test_split(\n",
        "    X, y, test_size=0.2, random_state=300)"
      ],
      "execution_count": 6,
      "outputs": []
    },
    {
      "cell_type": "code",
      "metadata": {
        "id": "Wt6YT9pgMYKt"
      },
      "source": [
        "# menyatukan kedalam masing-masing dataframe\n",
        "\n",
        "df_tr = pd.DataFrame({'path':X_train\n",
        "              ,'tag':y_train\n",
        "             ,'set':'train'})\n",
        "\n",
        "df_te = pd.DataFrame({'path':X_test\n",
        "              ,'tag':y_test\n",
        "             ,'set':'test'})"
      ],
      "execution_count": 7,
      "outputs": []
    },
    {
      "cell_type": "code",
      "metadata": {
        "colab": {
          "base_uri": "https://localhost:8080/"
        },
        "id": "BietD972Mega",
        "outputId": "db016804-2006-49af-dbdf-1ca85b883c05"
      },
      "source": [
        "print('train size', len(df_tr))\n",
        "print('test size', len(df_te))"
      ],
      "execution_count": 8,
      "outputs": [
        {
          "output_type": "stream",
          "text": [
            "train size 1262\n",
            "test size 316\n"
          ],
          "name": "stdout"
        }
      ]
    },
    {
      "cell_type": "code",
      "metadata": {
        "colab": {
          "base_uri": "https://localhost:8080/",
          "height": 366
        },
        "id": "J_LEwNOWMnxX",
        "outputId": "f6d929da-3736-400b-b1e8-cabe253f515c"
      },
      "source": [
        "# melihat proporsi pada masing masing set apakah sudah ok atau masih ada yang ingin diubah\n",
        "df_all = df_tr.append([df_te]).reset_index(drop=1)\\\n",
        "\n",
        "print('===================================================== \\n')\n",
        "print(df_all.groupby(['set','tag']).size(),'\\n')\n",
        "\n",
        "print('===================================================== \\n')\n",
        "\n",
        "#cek sample datanya\n",
        "df_all.sample(3)"
      ],
      "execution_count": 9,
      "outputs": [
        {
          "output_type": "stream",
          "text": [
            "===================================================== \n",
            "\n",
            "set    tag    \n",
            "test   Control    107\n",
            "       Type I     111\n",
            "       Type II     98\n",
            "train  Control    399\n",
            "       Type I     461\n",
            "       Type II    402\n",
            "dtype: int64 \n",
            "\n",
            "===================================================== \n",
            "\n"
          ],
          "name": "stdout"
        },
        {
          "output_type": "execute_result",
          "data": {
            "text/html": [
              "<div>\n",
              "<style scoped>\n",
              "    .dataframe tbody tr th:only-of-type {\n",
              "        vertical-align: middle;\n",
              "    }\n",
              "\n",
              "    .dataframe tbody tr th {\n",
              "        vertical-align: top;\n",
              "    }\n",
              "\n",
              "    .dataframe thead th {\n",
              "        text-align: right;\n",
              "    }\n",
              "</style>\n",
              "<table border=\"1\" class=\"dataframe\">\n",
              "  <thead>\n",
              "    <tr style=\"text-align: right;\">\n",
              "      <th></th>\n",
              "      <th>path</th>\n",
              "      <th>tag</th>\n",
              "      <th>set</th>\n",
              "    </tr>\n",
              "  </thead>\n",
              "  <tbody>\n",
              "    <tr>\n",
              "      <th>908</th>\n",
              "      <td>/content/gdrive/Shareddrives/Soedirman-Machine...</td>\n",
              "      <td>Control</td>\n",
              "      <td>train</td>\n",
              "    </tr>\n",
              "    <tr>\n",
              "      <th>1305</th>\n",
              "      <td>/content/gdrive/Shareddrives/Soedirman-Machine...</td>\n",
              "      <td>Type II</td>\n",
              "      <td>test</td>\n",
              "    </tr>\n",
              "    <tr>\n",
              "      <th>725</th>\n",
              "      <td>/content/gdrive/Shareddrives/Soedirman-Machine...</td>\n",
              "      <td>Control</td>\n",
              "      <td>train</td>\n",
              "    </tr>\n",
              "  </tbody>\n",
              "</table>\n",
              "</div>"
            ],
            "text/plain": [
              "                                                   path      tag    set\n",
              "908   /content/gdrive/Shareddrives/Soedirman-Machine...  Control  train\n",
              "1305  /content/gdrive/Shareddrives/Soedirman-Machine...  Type II   test\n",
              "725   /content/gdrive/Shareddrives/Soedirman-Machine...  Control  train"
            ]
          },
          "metadata": {
            "tags": []
          },
          "execution_count": 9
        }
      ]
    },
    {
      "cell_type": "code",
      "metadata": {
        "id": "wZji87k8M6Yu"
      },
      "source": [
        "import shutil\n",
        "from tqdm.notebook import tqdm as tq\n",
        "import shutil\n",
        "import os, sys"
      ],
      "execution_count": 10,
      "outputs": []
    },
    {
      "cell_type": "markdown",
      "metadata": {
        "id": "YGuQmOQVwIDJ"
      },
      "source": [
        "# Membuat Folder Baru untuk Dataset"
      ]
    },
    {
      "cell_type": "code",
      "metadata": {
        "id": "dgWROw_DM_J4"
      },
      "source": [
        "## create folders\n",
        "os.makedirs('Dataset/')"
      ],
      "execution_count": 11,
      "outputs": []
    },
    {
      "cell_type": "markdown",
      "metadata": {
        "id": "MBJ2NljFwRx1"
      },
      "source": [
        "# Menyalin Dataset ke dalam Folder Dataset Baru"
      ]
    },
    {
      "cell_type": "code",
      "metadata": {
        "colab": {
          "base_uri": "https://localhost:8080/",
          "height": 66,
          "referenced_widgets": [
            "6efc532b230c4ff0ac7d702a753616f7",
            "184e63e7a31b47bda59b9a4d656c3147",
            "d90af904eef14544b8628395c345d804",
            "f41d150298fb4058a7dba1b408868f51",
            "801952bcc3294c42a95d07f122d54798",
            "494a58e40e2f4369af95e9b0f976853c",
            "29ad338975344437a2cfd583dfffe2c6",
            "77d096764278494da12361a33864c101"
          ]
        },
        "id": "7CXZFR-hNAS_",
        "outputId": "c0772107-8846-44ea-e8e0-af5f3d2ad739"
      },
      "source": [
        "datasource_path = \"/content/gdrive/Shareddrives/Soedirman-Machine-Learning/CT SCAN COVID-19/Morbidity/Pre-processed/\"\n",
        "dataset_path = \"Dataset/\"\n",
        "\n",
        "for index, row in tq(df_all.iterrows()):\n",
        "    \n",
        "    #detect filepath\n",
        "    file_path = row['path']\n",
        "    if os.path.exists(file_path) == False:\n",
        "            file_path = os.path.join(datasource_path,row['tag'],row['image'].split('.')[0])            \n",
        "    \n",
        "    #make folder destination dirs\n",
        "    if os.path.exists(os.path.join(dataset_path,row['set'],row['tag'])) == False:\n",
        "        os.makedirs(os.path.join(dataset_path,row['set'],row['tag']))\n",
        "    \n",
        "    #define file dest\n",
        "    destination_file_name = file_path.split('/')[-1]\n",
        "    file_dest = os.path.join(dataset_path,row['set'],row['tag'],destination_file_name)\n",
        "    \n",
        "    #copy file from source to dest\n",
        "    if os.path.exists(file_dest) == False:\n",
        "        shutil.copy2(file_path,file_dest)"
      ],
      "execution_count": 12,
      "outputs": [
        {
          "output_type": "display_data",
          "data": {
            "application/vnd.jupyter.widget-view+json": {
              "model_id": "6efc532b230c4ff0ac7d702a753616f7",
              "version_minor": 0,
              "version_major": 2
            },
            "text/plain": [
              "HBox(children=(FloatProgress(value=1.0, bar_style='info', max=1.0), HTML(value='')))"
            ]
          },
          "metadata": {
            "tags": []
          }
        },
        {
          "output_type": "stream",
          "text": [
            "\n"
          ],
          "name": "stdout"
        }
      ]
    },
    {
      "cell_type": "markdown",
      "metadata": {
        "id": "3ZS3nylQwauE"
      },
      "source": [
        "# Pre-processing dan Augmentasi Data"
      ]
    },
    {
      "cell_type": "code",
      "metadata": {
        "id": "E3dTBuR3NPJ-"
      },
      "source": [
        "datagen = tf.keras.preprocessing.image.ImageDataGenerator(\n",
        "    rescale=1./255, \n",
        "    validation_split = 0.2,\n",
        "    rotation_range = 30,\n",
        "    horizontal_flip = True,\n",
        "    shear_range = 0.2,\n",
        "    zoom_range = 0.1,    \n",
        "    vertical_flip = True,\n",
        "    fill_mode = \"nearest\")"
      ],
      "execution_count": 13,
      "outputs": []
    },
    {
      "cell_type": "markdown",
      "metadata": {
        "id": "rPKzgPZrMYKT"
      },
      "source": [
        "# Mengimpor Dataset"
      ]
    },
    {
      "cell_type": "code",
      "metadata": {
        "colab": {
          "base_uri": "https://localhost:8080/"
        },
        "id": "3MC8ipRTyNkb",
        "outputId": "1c419d5a-3262-4244-c072-22c88c418835"
      },
      "source": [
        "#Memuat semua gambar ke memori untuk pertama kali\n",
        "\n",
        "#Memuat dataset pelatihan\n",
        "IMAGE_SIZE = 224\n",
        "BATCH_SIZE = 66\n",
        "base_dir = os.path.join('Dataset/train/')\n",
        "\n",
        "\n",
        "\n",
        "train_generator = datagen.flow_from_directory(\n",
        "    base_dir,\n",
        "    target_size=(IMAGE_SIZE, IMAGE_SIZE),\n",
        "    batch_size=BATCH_SIZE, \n",
        "    subset='training',\n",
        "    class_mode= 'categorical')\n",
        "\n",
        "val_generator = datagen.flow_from_directory(\n",
        "    base_dir,\n",
        "    target_size=(IMAGE_SIZE, IMAGE_SIZE),\n",
        "    batch_size=BATCH_SIZE, \n",
        "    subset='validation',\n",
        "    class_mode= 'categorical')\n",
        "\n",
        "#Memuat dataset pengujian\n",
        "X_test = []\n",
        "y_test = []\n",
        "labels = ['Control',\n",
        "          'Type I',\n",
        "          'Type II']\n",
        "\n",
        "for i,label in enumerate(labels):\n",
        "    folder = os.path.join(\"Dataset/test\",label)\n",
        "    files = sorted(os.listdir(folder))\n",
        "    files = [x for x in files if x.endswith(\".jpg\")]\n",
        "    for k,file in enumerate(files):\n",
        "        image_path = os.path.join(folder, file)\n",
        "        \n",
        "        image = imread(image_path)/255.\n",
        "        image = resize(image,(224,224))\n",
        "        X_test.append(image)\n",
        "        category = os.path.split(folder)[-1]\n",
        "        y_test.append(i)\n",
        "\n",
        "X_test = np.array(X_test)\n",
        "y_test = np.array(y_test)\n",
        "\n",
        "#Menampilkan bentuk dari masing-masing dataset\n",
        "for image_batch, label_batch in train_generator:\n",
        "  break\n",
        "print(\"Bentuk array dari dataset train (pelatihan) adalah:\", image_batch.shape,label_batch.shape)\n",
        "for image_batch, label_batch in val_generator:\n",
        "  break\n",
        "print(\"Bentuk array dari dataset validation (validasi) adalah:\", image_batch.shape,label_batch.shape)\n",
        "print(\"Bentuk array dari dataset test (pengujian) adalah:\", X_test.shape,y_test.shape)"
      ],
      "execution_count": 14,
      "outputs": [
        {
          "output_type": "stream",
          "text": [
            "Found 1011 images belonging to 3 classes.\n",
            "Found 251 images belonging to 3 classes.\n",
            "Bentuk array dari dataset train (pelatihan) adalah: (66, 224, 224, 3) (66, 3)\n",
            "Bentuk array dari dataset validation (validasi) adalah: (66, 224, 224, 3) (66, 3)\n",
            "Bentuk array dari dataset test (pengujian) adalah: (316, 224, 224) (316,)\n"
          ],
          "name": "stdout"
        }
      ]
    },
    {
      "cell_type": "markdown",
      "metadata": {
        "id": "fJkyzMqvMjyp"
      },
      "source": [
        "# Menyimpan label"
      ]
    },
    {
      "cell_type": "code",
      "metadata": {
        "colab": {
          "base_uri": "https://localhost:8080/"
        },
        "id": "zuiWFi8gyryf",
        "outputId": "4a8f277c-7dd7-4de2-e88b-593eeb4b0748"
      },
      "source": [
        "print (train_generator.class_indices)\n",
        "\n",
        "labels_txt = '\\n'.join(sorted(train_generator.class_indices.keys()))\n",
        "\n",
        "with open('labels.txt', 'w') as f:\n",
        "  f.write(labels_txt)"
      ],
      "execution_count": 15,
      "outputs": [
        {
          "output_type": "stream",
          "text": [
            "{'Control': 0, 'Type I': 1, 'Type II': 2}\n"
          ],
          "name": "stdout"
        }
      ]
    },
    {
      "cell_type": "code",
      "metadata": {
        "colab": {
          "base_uri": "https://localhost:8080/"
        },
        "id": "auIaOCxgyguD",
        "outputId": "39584700-ac37-4ebb-c6f3-fc8d9c60d125"
      },
      "source": [
        "!cat labels.txt"
      ],
      "execution_count": 16,
      "outputs": [
        {
          "output_type": "stream",
          "text": [
            "Control\n",
            "Type I\n",
            "Type II"
          ],
          "name": "stdout"
        }
      ]
    },
    {
      "cell_type": "markdown",
      "metadata": {
        "id": "mdKpWZTBMwSb"
      },
      "source": [
        "# Membuat model CNN"
      ]
    },
    {
      "cell_type": "code",
      "metadata": {
        "colab": {
          "base_uri": "https://localhost:8080/"
        },
        "id": "zrQKX9HVzbdY",
        "outputId": "d4014d1c-0fdf-48e7-91c5-3b4ee91e9f77"
      },
      "source": [
        "IMG_SHAPE = (224, 224, 3)\n",
        "# Membuat model dasar (base model) dari pre-trained model MobileNet\n",
        "base_model = tf.keras.applications.VGG16(input_shape=IMG_SHAPE,\n",
        "                                              include_top=False, \n",
        "                                              weights='imagenet')\n",
        "\n",
        "base_model.trainable = False\n",
        "base_model.summary()"
      ],
      "execution_count": 17,
      "outputs": [
        {
          "output_type": "stream",
          "text": [
            "Downloading data from https://storage.googleapis.com/tensorflow/keras-applications/vgg16/vgg16_weights_tf_dim_ordering_tf_kernels_notop.h5\n",
            "58892288/58889256 [==============================] - 0s 0us/step\n",
            "Model: \"vgg16\"\n",
            "_________________________________________________________________\n",
            "Layer (type)                 Output Shape              Param #   \n",
            "=================================================================\n",
            "input_1 (InputLayer)         [(None, 224, 224, 3)]     0         \n",
            "_________________________________________________________________\n",
            "block1_conv1 (Conv2D)        (None, 224, 224, 64)      1792      \n",
            "_________________________________________________________________\n",
            "block1_conv2 (Conv2D)        (None, 224, 224, 64)      36928     \n",
            "_________________________________________________________________\n",
            "block1_pool (MaxPooling2D)   (None, 112, 112, 64)      0         \n",
            "_________________________________________________________________\n",
            "block2_conv1 (Conv2D)        (None, 112, 112, 128)     73856     \n",
            "_________________________________________________________________\n",
            "block2_conv2 (Conv2D)        (None, 112, 112, 128)     147584    \n",
            "_________________________________________________________________\n",
            "block2_pool (MaxPooling2D)   (None, 56, 56, 128)       0         \n",
            "_________________________________________________________________\n",
            "block3_conv1 (Conv2D)        (None, 56, 56, 256)       295168    \n",
            "_________________________________________________________________\n",
            "block3_conv2 (Conv2D)        (None, 56, 56, 256)       590080    \n",
            "_________________________________________________________________\n",
            "block3_conv3 (Conv2D)        (None, 56, 56, 256)       590080    \n",
            "_________________________________________________________________\n",
            "block3_pool (MaxPooling2D)   (None, 28, 28, 256)       0         \n",
            "_________________________________________________________________\n",
            "block4_conv1 (Conv2D)        (None, 28, 28, 512)       1180160   \n",
            "_________________________________________________________________\n",
            "block4_conv2 (Conv2D)        (None, 28, 28, 512)       2359808   \n",
            "_________________________________________________________________\n",
            "block4_conv3 (Conv2D)        (None, 28, 28, 512)       2359808   \n",
            "_________________________________________________________________\n",
            "block4_pool (MaxPooling2D)   (None, 14, 14, 512)       0         \n",
            "_________________________________________________________________\n",
            "block5_conv1 (Conv2D)        (None, 14, 14, 512)       2359808   \n",
            "_________________________________________________________________\n",
            "block5_conv2 (Conv2D)        (None, 14, 14, 512)       2359808   \n",
            "_________________________________________________________________\n",
            "block5_conv3 (Conv2D)        (None, 14, 14, 512)       2359808   \n",
            "_________________________________________________________________\n",
            "block5_pool (MaxPooling2D)   (None, 7, 7, 512)         0         \n",
            "=================================================================\n",
            "Total params: 14,714,688\n",
            "Trainable params: 0\n",
            "Non-trainable params: 14,714,688\n",
            "_________________________________________________________________\n"
          ],
          "name": "stdout"
        }
      ]
    },
    {
      "cell_type": "code",
      "metadata": {
        "id": "m-JJL-gNzo4F"
      },
      "source": [
        "import keras\n",
        "from keras import backend as K\n",
        "from keras.models import Sequential\n",
        "from keras import layers\n",
        "from keras.utils.np_utils import to_categorical\n",
        "\n",
        "from sklearn.model_selection import train_test_split"
      ],
      "execution_count": 18,
      "outputs": []
    },
    {
      "cell_type": "code",
      "metadata": {
        "colab": {
          "base_uri": "https://localhost:8080/"
        },
        "id": "k8kb4gw2zko6",
        "outputId": "8892459a-1681-4afd-d7ec-e31fcb5c8153"
      },
      "source": [
        "model = tf.keras.Sequential([\n",
        "    base_model,    \n",
        "    tf.keras.layers.Conv2D(512, 3, activation='relu'),\n",
        "    tf.keras.layers.Dropout(0.2),\n",
        "    tf.keras.layers.Conv2D(256, 3, activation='relu'),\n",
        "    tf.keras.layers.Dropout(0.2),\n",
        "    tf.keras.layers.Conv2D(128, 3, activation='relu'),\n",
        "    tf.keras.layers.Dropout(0.2),\n",
        "    tf.keras.layers.GlobalAveragePooling2D(),\n",
        "    tf.keras.layers.Dense(64, activation='relu'),\n",
        "    tf.keras.layers.Dropout(0.05),\n",
        "    tf.keras.layers.Dense(3, activation='softmax')\n",
        "]\n",
        ")\n",
        "\n",
        "model.compile(\"adam\",loss=\"categorical_crossentropy\",metrics=[\"acc\"])\n",
        "model.summary()"
      ],
      "execution_count": 19,
      "outputs": [
        {
          "output_type": "stream",
          "text": [
            "Model: \"sequential\"\n",
            "_________________________________________________________________\n",
            "Layer (type)                 Output Shape              Param #   \n",
            "=================================================================\n",
            "vgg16 (Functional)           (None, 7, 7, 512)         14714688  \n",
            "_________________________________________________________________\n",
            "conv2d (Conv2D)              (None, 5, 5, 512)         2359808   \n",
            "_________________________________________________________________\n",
            "dropout (Dropout)            (None, 5, 5, 512)         0         \n",
            "_________________________________________________________________\n",
            "conv2d_1 (Conv2D)            (None, 3, 3, 256)         1179904   \n",
            "_________________________________________________________________\n",
            "dropout_1 (Dropout)          (None, 3, 3, 256)         0         \n",
            "_________________________________________________________________\n",
            "conv2d_2 (Conv2D)            (None, 1, 1, 128)         295040    \n",
            "_________________________________________________________________\n",
            "dropout_2 (Dropout)          (None, 1, 1, 128)         0         \n",
            "_________________________________________________________________\n",
            "global_average_pooling2d (Gl (None, 128)               0         \n",
            "_________________________________________________________________\n",
            "dense (Dense)                (None, 64)                8256      \n",
            "_________________________________________________________________\n",
            "dropout_3 (Dropout)          (None, 64)                0         \n",
            "_________________________________________________________________\n",
            "dense_1 (Dense)              (None, 3)                 195       \n",
            "=================================================================\n",
            "Total params: 18,557,891\n",
            "Trainable params: 3,843,203\n",
            "Non-trainable params: 14,714,688\n",
            "_________________________________________________________________\n"
          ],
          "name": "stdout"
        }
      ]
    },
    {
      "cell_type": "markdown",
      "metadata": {
        "id": "EfOwGVXxr1yD"
      },
      "source": [
        ""
      ]
    },
    {
      "cell_type": "markdown",
      "metadata": {
        "id": "o5RxA8NlwkPY"
      },
      "source": [
        "# Melatih Model"
      ]
    },
    {
      "cell_type": "code",
      "metadata": {
        "colab": {
          "base_uri": "https://localhost:8080/"
        },
        "id": "B6cYQQ_8z294",
        "outputId": "13cdea46-a3f7-45b9-fded-f035ae9a1f39"
      },
      "source": [
        "history = model.fit_generator(train_generator, \n",
        "                    epochs=100, \n",
        "                    validation_data=val_generator)"
      ],
      "execution_count": 20,
      "outputs": [
        {
          "output_type": "stream",
          "text": [
            "/usr/local/lib/python3.7/dist-packages/tensorflow/python/keras/engine/training.py:1844: UserWarning: `Model.fit_generator` is deprecated and will be removed in a future version. Please use `Model.fit`, which supports generators.\n",
            "  warnings.warn('`Model.fit_generator` is deprecated and '\n"
          ],
          "name": "stderr"
        },
        {
          "output_type": "stream",
          "text": [
            "Epoch 1/100\n",
            "16/16 [==============================] - 70s 2s/step - loss: 1.5629 - acc: 0.3518 - val_loss: 1.0898 - val_acc: 0.3028\n",
            "Epoch 2/100\n",
            "16/16 [==============================] - 15s 950ms/step - loss: 1.1237 - acc: 0.3218 - val_loss: 1.0638 - val_acc: 0.4382\n",
            "Epoch 3/100\n",
            "16/16 [==============================] - 15s 943ms/step - loss: 1.0336 - acc: 0.4656 - val_loss: 0.9909 - val_acc: 0.5020\n",
            "Epoch 4/100\n",
            "16/16 [==============================] - 15s 953ms/step - loss: 0.9645 - acc: 0.5332 - val_loss: 0.9206 - val_acc: 0.5777\n",
            "Epoch 5/100\n",
            "16/16 [==============================] - 15s 941ms/step - loss: 0.9294 - acc: 0.5454 - val_loss: 0.9607 - val_acc: 0.5020\n",
            "Epoch 6/100\n",
            "16/16 [==============================] - 15s 949ms/step - loss: 0.8579 - acc: 0.5760 - val_loss: 0.9555 - val_acc: 0.5259\n",
            "Epoch 7/100\n",
            "16/16 [==============================] - 15s 954ms/step - loss: 0.7955 - acc: 0.6186 - val_loss: 0.9024 - val_acc: 0.5857\n",
            "Epoch 8/100\n",
            "16/16 [==============================] - 15s 965ms/step - loss: 0.8229 - acc: 0.5900 - val_loss: 0.9454 - val_acc: 0.5060\n",
            "Epoch 9/100\n",
            "16/16 [==============================] - 15s 962ms/step - loss: 0.7255 - acc: 0.6665 - val_loss: 0.9465 - val_acc: 0.5777\n",
            "Epoch 10/100\n",
            "16/16 [==============================] - 15s 964ms/step - loss: 0.6767 - acc: 0.6635 - val_loss: 1.0074 - val_acc: 0.5060\n",
            "Epoch 11/100\n",
            "16/16 [==============================] - 15s 955ms/step - loss: 0.7184 - acc: 0.6752 - val_loss: 1.0917 - val_acc: 0.5418\n",
            "Epoch 12/100\n",
            "16/16 [==============================] - 15s 957ms/step - loss: 0.6226 - acc: 0.7254 - val_loss: 0.9494 - val_acc: 0.5299\n",
            "Epoch 13/100\n",
            "16/16 [==============================] - 15s 955ms/step - loss: 0.6236 - acc: 0.7080 - val_loss: 1.1215 - val_acc: 0.5378\n",
            "Epoch 14/100\n",
            "16/16 [==============================] - 15s 967ms/step - loss: 0.5703 - acc: 0.7499 - val_loss: 1.1688 - val_acc: 0.4900\n",
            "Epoch 15/100\n",
            "16/16 [==============================] - 15s 964ms/step - loss: 0.5597 - acc: 0.7514 - val_loss: 1.1418 - val_acc: 0.5060\n",
            "Epoch 16/100\n",
            "16/16 [==============================] - 15s 999ms/step - loss: 0.5108 - acc: 0.7652 - val_loss: 1.1179 - val_acc: 0.5020\n",
            "Epoch 17/100\n",
            "16/16 [==============================] - 15s 970ms/step - loss: 0.4569 - acc: 0.8128 - val_loss: 1.0570 - val_acc: 0.5219\n",
            "Epoch 18/100\n",
            "16/16 [==============================] - 16s 971ms/step - loss: 0.4517 - acc: 0.8156 - val_loss: 1.2050 - val_acc: 0.4781\n",
            "Epoch 19/100\n",
            "16/16 [==============================] - 16s 975ms/step - loss: 0.4506 - acc: 0.8140 - val_loss: 1.1321 - val_acc: 0.5060\n",
            "Epoch 20/100\n",
            "16/16 [==============================] - 16s 976ms/step - loss: 0.3765 - acc: 0.8514 - val_loss: 1.3866 - val_acc: 0.5179\n",
            "Epoch 21/100\n",
            "16/16 [==============================] - 16s 976ms/step - loss: 0.3976 - acc: 0.8120 - val_loss: 1.3231 - val_acc: 0.4821\n",
            "Epoch 22/100\n",
            "16/16 [==============================] - 16s 988ms/step - loss: 0.3484 - acc: 0.8676 - val_loss: 1.2411 - val_acc: 0.5060\n",
            "Epoch 23/100\n",
            "16/16 [==============================] - 16s 974ms/step - loss: 0.4378 - acc: 0.8071 - val_loss: 1.5533 - val_acc: 0.4462\n",
            "Epoch 24/100\n",
            "16/16 [==============================] - 16s 972ms/step - loss: 0.4377 - acc: 0.8302 - val_loss: 1.4196 - val_acc: 0.4940\n",
            "Epoch 25/100\n",
            "16/16 [==============================] - 16s 983ms/step - loss: 0.3841 - acc: 0.8264 - val_loss: 1.4289 - val_acc: 0.5020\n",
            "Epoch 26/100\n",
            "16/16 [==============================] - 16s 975ms/step - loss: 0.3781 - acc: 0.8451 - val_loss: 1.2821 - val_acc: 0.5219\n",
            "Epoch 27/100\n",
            "16/16 [==============================] - 16s 969ms/step - loss: 0.3835 - acc: 0.8488 - val_loss: 1.2661 - val_acc: 0.5179\n",
            "Epoch 28/100\n",
            "16/16 [==============================] - 16s 982ms/step - loss: 0.3298 - acc: 0.8567 - val_loss: 1.9158 - val_acc: 0.4382\n",
            "Epoch 29/100\n",
            "16/16 [==============================] - 16s 975ms/step - loss: 0.2868 - acc: 0.8866 - val_loss: 1.4555 - val_acc: 0.4900\n",
            "Epoch 30/100\n",
            "16/16 [==============================] - 16s 988ms/step - loss: 0.2583 - acc: 0.9035 - val_loss: 1.5106 - val_acc: 0.4821\n",
            "Epoch 31/100\n",
            "16/16 [==============================] - 16s 980ms/step - loss: 0.2330 - acc: 0.9145 - val_loss: 1.4493 - val_acc: 0.5378\n",
            "Epoch 32/100\n",
            "16/16 [==============================] - 16s 980ms/step - loss: 0.3115 - acc: 0.8621 - val_loss: 1.5537 - val_acc: 0.4183\n",
            "Epoch 33/100\n",
            "16/16 [==============================] - 16s 979ms/step - loss: 0.2250 - acc: 0.9163 - val_loss: 1.6159 - val_acc: 0.4861\n",
            "Epoch 34/100\n",
            "16/16 [==============================] - 16s 978ms/step - loss: 0.2753 - acc: 0.9109 - val_loss: 1.5081 - val_acc: 0.5259\n",
            "Epoch 35/100\n",
            "16/16 [==============================] - 16s 979ms/step - loss: 0.2525 - acc: 0.9084 - val_loss: 1.5855 - val_acc: 0.5020\n",
            "Epoch 36/100\n",
            "16/16 [==============================] - 16s 975ms/step - loss: 0.2502 - acc: 0.9034 - val_loss: 2.0555 - val_acc: 0.5100\n",
            "Epoch 37/100\n",
            "16/16 [==============================] - 16s 973ms/step - loss: 0.2951 - acc: 0.8850 - val_loss: 1.5857 - val_acc: 0.5060\n",
            "Epoch 38/100\n",
            "16/16 [==============================] - 16s 979ms/step - loss: 0.2447 - acc: 0.9163 - val_loss: 1.6685 - val_acc: 0.5219\n",
            "Epoch 39/100\n",
            "16/16 [==============================] - 16s 980ms/step - loss: 0.1743 - acc: 0.9376 - val_loss: 1.6622 - val_acc: 0.5020\n",
            "Epoch 40/100\n",
            "16/16 [==============================] - 16s 974ms/step - loss: 0.1716 - acc: 0.9394 - val_loss: 1.6331 - val_acc: 0.5339\n",
            "Epoch 41/100\n",
            "16/16 [==============================] - 16s 979ms/step - loss: 0.2145 - acc: 0.9339 - val_loss: 1.9056 - val_acc: 0.5020\n",
            "Epoch 42/100\n",
            "16/16 [==============================] - 16s 981ms/step - loss: 0.3031 - acc: 0.8865 - val_loss: 1.4249 - val_acc: 0.5299\n",
            "Epoch 43/100\n",
            "16/16 [==============================] - 16s 975ms/step - loss: 0.3128 - acc: 0.8706 - val_loss: 1.7768 - val_acc: 0.4940\n",
            "Epoch 44/100\n",
            "16/16 [==============================] - 16s 977ms/step - loss: 0.2818 - acc: 0.8915 - val_loss: 1.5789 - val_acc: 0.4980\n",
            "Epoch 45/100\n",
            "16/16 [==============================] - 16s 987ms/step - loss: 0.2308 - acc: 0.9104 - val_loss: 1.5960 - val_acc: 0.5020\n",
            "Epoch 46/100\n",
            "16/16 [==============================] - 16s 980ms/step - loss: 0.1599 - acc: 0.9439 - val_loss: 1.7311 - val_acc: 0.5259\n",
            "Epoch 47/100\n",
            "16/16 [==============================] - 16s 980ms/step - loss: 0.2378 - acc: 0.9033 - val_loss: 1.5174 - val_acc: 0.5100\n",
            "Epoch 48/100\n",
            "16/16 [==============================] - 16s 984ms/step - loss: 0.1877 - acc: 0.9428 - val_loss: 1.8778 - val_acc: 0.5219\n",
            "Epoch 49/100\n",
            "16/16 [==============================] - 16s 982ms/step - loss: 0.1780 - acc: 0.9288 - val_loss: 2.0594 - val_acc: 0.4821\n",
            "Epoch 50/100\n",
            "16/16 [==============================] - 16s 986ms/step - loss: 0.1448 - acc: 0.9481 - val_loss: 1.9660 - val_acc: 0.4821\n",
            "Epoch 51/100\n",
            "16/16 [==============================] - 16s 984ms/step - loss: 0.1888 - acc: 0.9319 - val_loss: 1.7556 - val_acc: 0.5060\n",
            "Epoch 52/100\n",
            "16/16 [==============================] - 15s 968ms/step - loss: 0.1361 - acc: 0.9567 - val_loss: 1.8894 - val_acc: 0.4861\n",
            "Epoch 53/100\n",
            "16/16 [==============================] - 16s 978ms/step - loss: 0.1768 - acc: 0.9388 - val_loss: 2.3461 - val_acc: 0.5259\n",
            "Epoch 54/100\n",
            "16/16 [==============================] - 16s 973ms/step - loss: 0.2193 - acc: 0.8894 - val_loss: 1.2692 - val_acc: 0.5498\n",
            "Epoch 55/100\n",
            "16/16 [==============================] - 16s 973ms/step - loss: 0.1704 - acc: 0.9352 - val_loss: 1.8303 - val_acc: 0.5060\n",
            "Epoch 56/100\n",
            "16/16 [==============================] - 16s 971ms/step - loss: 0.1166 - acc: 0.9617 - val_loss: 2.0662 - val_acc: 0.5498\n",
            "Epoch 57/100\n",
            "16/16 [==============================] - 16s 971ms/step - loss: 0.1033 - acc: 0.9615 - val_loss: 2.4951 - val_acc: 0.4900\n",
            "Epoch 58/100\n",
            "16/16 [==============================] - 16s 981ms/step - loss: 0.1877 - acc: 0.9154 - val_loss: 1.8637 - val_acc: 0.5339\n",
            "Epoch 59/100\n",
            "16/16 [==============================] - 16s 976ms/step - loss: 0.1443 - acc: 0.9442 - val_loss: 2.0541 - val_acc: 0.4861\n",
            "Epoch 60/100\n",
            "16/16 [==============================] - 16s 978ms/step - loss: 0.1650 - acc: 0.9420 - val_loss: 2.1642 - val_acc: 0.4622\n",
            "Epoch 61/100\n",
            "16/16 [==============================] - 16s 980ms/step - loss: 0.1180 - acc: 0.9569 - val_loss: 2.0406 - val_acc: 0.5060\n",
            "Epoch 62/100\n",
            "16/16 [==============================] - 16s 976ms/step - loss: 0.1051 - acc: 0.9663 - val_loss: 2.6724 - val_acc: 0.4980\n",
            "Epoch 63/100\n",
            "16/16 [==============================] - 15s 969ms/step - loss: 0.2141 - acc: 0.9273 - val_loss: 1.9226 - val_acc: 0.5100\n",
            "Epoch 64/100\n",
            "16/16 [==============================] - 16s 970ms/step - loss: 0.1806 - acc: 0.9268 - val_loss: 1.8076 - val_acc: 0.5418\n",
            "Epoch 65/100\n",
            "16/16 [==============================] - 16s 971ms/step - loss: 0.1757 - acc: 0.9404 - val_loss: 1.6915 - val_acc: 0.5777\n",
            "Epoch 66/100\n",
            "16/16 [==============================] - 15s 968ms/step - loss: 0.1791 - acc: 0.9304 - val_loss: 1.7136 - val_acc: 0.5339\n",
            "Epoch 67/100\n",
            "16/16 [==============================] - 16s 974ms/step - loss: 0.1530 - acc: 0.9530 - val_loss: 1.6996 - val_acc: 0.5299\n",
            "Epoch 68/100\n",
            "16/16 [==============================] - 16s 984ms/step - loss: 0.1128 - acc: 0.9575 - val_loss: 2.5383 - val_acc: 0.5418\n",
            "Epoch 69/100\n",
            "16/16 [==============================] - 16s 971ms/step - loss: 0.1337 - acc: 0.9381 - val_loss: 1.8666 - val_acc: 0.5618\n",
            "Epoch 70/100\n",
            "16/16 [==============================] - 16s 972ms/step - loss: 0.1082 - acc: 0.9595 - val_loss: 1.8317 - val_acc: 0.5139\n",
            "Epoch 71/100\n",
            "16/16 [==============================] - 15s 968ms/step - loss: 0.1061 - acc: 0.9601 - val_loss: 2.0326 - val_acc: 0.5378\n",
            "Epoch 72/100\n",
            "16/16 [==============================] - 16s 973ms/step - loss: 0.0832 - acc: 0.9666 - val_loss: 2.4241 - val_acc: 0.5020\n",
            "Epoch 73/100\n",
            "16/16 [==============================] - 16s 1s/step - loss: 0.1297 - acc: 0.9599 - val_loss: 1.9962 - val_acc: 0.4741\n",
            "Epoch 74/100\n",
            "16/16 [==============================] - 16s 973ms/step - loss: 0.1256 - acc: 0.9490 - val_loss: 1.9831 - val_acc: 0.5299\n",
            "Epoch 75/100\n",
            "16/16 [==============================] - 16s 982ms/step - loss: 0.1231 - acc: 0.9521 - val_loss: 2.1487 - val_acc: 0.5299\n",
            "Epoch 76/100\n",
            "16/16 [==============================] - 16s 981ms/step - loss: 0.0696 - acc: 0.9753 - val_loss: 2.2791 - val_acc: 0.4861\n",
            "Epoch 77/100\n",
            "16/16 [==============================] - 16s 1s/step - loss: 0.0938 - acc: 0.9572 - val_loss: 2.5720 - val_acc: 0.5060\n",
            "Epoch 78/100\n",
            "16/16 [==============================] - 16s 985ms/step - loss: 0.1087 - acc: 0.9625 - val_loss: 2.1023 - val_acc: 0.4861\n",
            "Epoch 79/100\n",
            "16/16 [==============================] - 16s 975ms/step - loss: 0.0854 - acc: 0.9685 - val_loss: 2.1979 - val_acc: 0.5259\n",
            "Epoch 80/100\n",
            "16/16 [==============================] - 16s 974ms/step - loss: 0.0861 - acc: 0.9763 - val_loss: 2.1064 - val_acc: 0.5139\n",
            "Epoch 81/100\n",
            "16/16 [==============================] - 16s 983ms/step - loss: 0.1124 - acc: 0.9552 - val_loss: 2.3327 - val_acc: 0.5259\n",
            "Epoch 82/100\n",
            "16/16 [==============================] - 16s 978ms/step - loss: 0.1015 - acc: 0.9555 - val_loss: 2.0715 - val_acc: 0.5179\n",
            "Epoch 83/100\n",
            "16/16 [==============================] - 16s 979ms/step - loss: 0.0895 - acc: 0.9723 - val_loss: 2.4319 - val_acc: 0.4542\n",
            "Epoch 84/100\n",
            "16/16 [==============================] - 16s 971ms/step - loss: 0.1281 - acc: 0.9587 - val_loss: 1.9734 - val_acc: 0.5339\n",
            "Epoch 85/100\n",
            "16/16 [==============================] - 16s 975ms/step - loss: 0.0862 - acc: 0.9698 - val_loss: 2.2956 - val_acc: 0.5418\n",
            "Epoch 86/100\n",
            "16/16 [==============================] - 16s 972ms/step - loss: 0.0885 - acc: 0.9628 - val_loss: 2.6963 - val_acc: 0.4622\n",
            "Epoch 87/100\n",
            "16/16 [==============================] - 16s 978ms/step - loss: 0.1680 - acc: 0.9366 - val_loss: 2.1723 - val_acc: 0.5060\n",
            "Epoch 88/100\n",
            "16/16 [==============================] - 16s 971ms/step - loss: 0.0989 - acc: 0.9626 - val_loss: 2.2861 - val_acc: 0.4821\n",
            "Epoch 89/100\n",
            "16/16 [==============================] - 15s 967ms/step - loss: 0.0813 - acc: 0.9839 - val_loss: 2.6902 - val_acc: 0.4980\n",
            "Epoch 90/100\n",
            "16/16 [==============================] - 15s 967ms/step - loss: 0.1156 - acc: 0.9653 - val_loss: 2.2293 - val_acc: 0.4582\n",
            "Epoch 91/100\n",
            "16/16 [==============================] - 16s 973ms/step - loss: 0.1155 - acc: 0.9528 - val_loss: 2.4209 - val_acc: 0.4701\n",
            "Epoch 92/100\n",
            "16/16 [==============================] - 16s 979ms/step - loss: 0.1016 - acc: 0.9547 - val_loss: 2.3628 - val_acc: 0.5020\n",
            "Epoch 93/100\n",
            "16/16 [==============================] - 16s 974ms/step - loss: 0.0864 - acc: 0.9666 - val_loss: 2.6245 - val_acc: 0.5339\n",
            "Epoch 94/100\n",
            "16/16 [==============================] - 16s 1s/step - loss: 0.0981 - acc: 0.9715 - val_loss: 3.3853 - val_acc: 0.4980\n",
            "Epoch 95/100\n",
            "16/16 [==============================] - 16s 978ms/step - loss: 0.1480 - acc: 0.9553 - val_loss: 2.4498 - val_acc: 0.4821\n",
            "Epoch 96/100\n",
            "16/16 [==============================] - 16s 981ms/step - loss: 0.1015 - acc: 0.9614 - val_loss: 2.8871 - val_acc: 0.4900\n",
            "Epoch 97/100\n",
            "16/16 [==============================] - 16s 980ms/step - loss: 0.0832 - acc: 0.9747 - val_loss: 2.1312 - val_acc: 0.5100\n",
            "Epoch 98/100\n",
            "16/16 [==============================] - 16s 1s/step - loss: 0.1024 - acc: 0.9585 - val_loss: 2.6212 - val_acc: 0.4622\n",
            "Epoch 99/100\n",
            "16/16 [==============================] - 16s 979ms/step - loss: 0.0856 - acc: 0.9723 - val_loss: 2.4107 - val_acc: 0.5179\n",
            "Epoch 100/100\n",
            "16/16 [==============================] - 16s 980ms/step - loss: 0.0951 - acc: 0.9656 - val_loss: 3.0563 - val_acc: 0.4861\n"
          ],
          "name": "stdout"
        }
      ]
    },
    {
      "cell_type": "markdown",
      "metadata": {
        "id": "8iN51d-xNJhB"
      },
      "source": [
        "# Menampilkan Hasil Pelatihan"
      ]
    },
    {
      "cell_type": "code",
      "metadata": {
        "colab": {
          "base_uri": "https://localhost:8080/",
          "height": 844
        },
        "id": "dK0JIgi2LOVi",
        "outputId": "4a091956-7f49-4c14-c578-ebd7a67fd7f3"
      },
      "source": [
        "plt.plot(history.history[\"acc\"],label=\"Training Accuracy\")\n",
        "plt.plot(history.history[\"val_acc\"],label=\"Validation Accuracy\")\n",
        "plt.legend()\n",
        "plt.show()\n",
        "\n",
        "plt.plot(history.history[\"loss\"],label=\"Training Loss\")\n",
        "plt.plot(history.history[\"val_loss\"],label=\"Validation Loss\")\n",
        "plt.legend()\n",
        "plt.show()"
      ],
      "execution_count": 21,
      "outputs": [
        {
          "output_type": "display_data",
          "data": {
            "image/png": "[encoded data removed]",
            "text/plain": [
              "<Figure size 640x480 with 1 Axes>"
            ]
          },
          "metadata": {
            "tags": []
          }
        },
        {
          "output_type": "display_data",
          "data": {
            "image/png": "[encoded data removed]",
            "text/plain": [
              "<Figure size 640x480 with 1 Axes>"
            ]
          },
          "metadata": {
            "tags": []
          }
        }
      ]
    },
    {
      "cell_type": "markdown",
      "metadata": {
        "id": "9uVvPRuNyo2z"
      },
      "source": [
        "# Memuat Dataset Pengujian"
      ]
    },
    {
      "cell_type": "code",
      "metadata": {
        "id": "ux55Q_SiysJO"
      },
      "source": [
        "y_test2 = to_categorical(y_test)\n",
        "X_test3, y_test3 = (X_test, y_test2)"
      ],
      "execution_count": 22,
      "outputs": []
    },
    {
      "cell_type": "markdown",
      "metadata": {
        "id": "G4xOILgHyz8U"
      },
      "source": [
        "# Mengevaluasi Model"
      ]
    },
    {
      "cell_type": "code",
      "metadata": {
        "colab": {
          "base_uri": "https://localhost:8080/"
        },
        "id": "1w-YNZGHy3PZ",
        "outputId": "2cdc1952-e6d5-4690-eeed-8c9351440bfc"
      },
      "source": [
        "#Menampilkan matriks yang benar dan matriks hasil prediksi\n",
        "\n",
        "#Label yang benar\n",
        "y_true = np.argmax(y_test2,axis=1)\n",
        "\n",
        "X_test = np.repeat(np.expand_dims(X_test, axis=3), 3, axis=3)\n",
        "#Label prediksi\n",
        "Y_pred = model.predict(X_test)\n",
        "y_pred = np.argmax(Y_pred, axis=1)\n",
        "\n",
        "print(y_true)\n",
        "print(y_pred)"
      ],
      "execution_count": 23,
      "outputs": [
        {
          "output_type": "stream",
          "text": [
            "[0 0 0 0 0 0 0 0 0 0 0 0 0 0 0 0 0 0 0 0 0 0 0 0 0 0 0 0 0 0 0 0 0 0 0 0 0\n",
            " 0 0 0 0 0 0 0 0 0 0 0 0 0 0 0 0 0 0 0 0 0 0 0 0 0 0 0 0 0 0 0 0 0 0 0 0 0\n",
            " 0 0 0 0 0 0 0 0 0 0 0 0 0 0 0 0 0 0 0 0 0 0 0 0 0 0 0 0 0 0 0 0 0 1 1 1 1\n",
            " 1 1 1 1 1 1 1 1 1 1 1 1 1 1 1 1 1 1 1 1 1 1 1 1 1 1 1 1 1 1 1 1 1 1 1 1 1\n",
            " 1 1 1 1 1 1 1 1 1 1 1 1 1 1 1 1 1 1 1 1 1 1 1 1 1 1 1 1 1 1 1 1 1 1 1 1 1\n",
            " 1 1 1 1 1 1 1 1 1 1 1 1 1 1 1 1 1 1 1 1 1 1 1 1 1 1 1 1 1 1 1 1 1 2 2 2 2\n",
            " 2 2 2 2 2 2 2 2 2 2 2 2 2 2 2 2 2 2 2 2 2 2 2 2 2 2 2 2 2 2 2 2 2 2 2 2 2\n",
            " 2 2 2 2 2 2 2 2 2 2 2 2 2 2 2 2 2 2 2 2 2 2 2 2 2 2 2 2 2 2 2 2 2 2 2 2 2\n",
            " 2 2 2 2 2 2 2 2 2 2 2 2 2 2 2 2 2 2 2 2]\n",
            "[1 1 1 1 1 1 1 1 0 0 0 1 1 1 1 1 1 1 1 1 0 0 0 1 0 0 0 0 0 0 0 0 0 0 0 0 0\n",
            " 0 0 0 0 0 0 0 0 0 1 0 1 0 0 0 0 0 0 0 0 0 0 0 0 0 0 0 0 0 0 0 0 0 1 0 0 0\n",
            " 0 0 0 0 0 0 0 0 0 0 0 0 0 0 0 0 0 0 0 0 0 0 0 0 0 0 0 0 0 0 0 1 0 1 1 2 1\n",
            " 1 2 1 1 1 1 1 1 1 1 1 1 1 1 0 1 1 1 1 1 1 1 1 0 1 1 1 1 1 1 1 1 1 1 1 1 1\n",
            " 1 1 1 1 1 1 1 1 1 1 1 1 1 1 1 1 1 1 1 1 1 1 1 1 1 1 1 1 1 1 1 1 1 1 1 1 1\n",
            " 1 1 1 1 1 1 1 0 2 1 1 1 1 1 1 1 1 1 1 1 1 1 1 1 1 1 1 1 1 1 1 1 1 2 2 2 1\n",
            " 2 1 1 1 1 1 1 1 1 2 2 2 2 2 2 2 2 2 2 2 2 1 2 1 2 2 2 2 2 2 2 2 2 2 2 2 2\n",
            " 1 2 2 2 2 2 2 2 2 2 2 2 2 2 2 2 2 2 2 2 2 2 2 2 2 2 2 2 2 2 1 2 1 2 2 2 2\n",
            " 2 2 2 2 2 2 2 2 1 2 2 2 2 2 2 2 2 2 0 2]\n"
          ],
          "name": "stdout"
        }
      ]
    },
    {
      "cell_type": "markdown",
      "metadata": {
        "id": "3nWovNwNNPSS"
      },
      "source": [
        "# Menggunakan Model"
      ]
    },
    {
      "cell_type": "code",
      "metadata": {
        "id": "63DCEjBgLYR0"
      },
      "source": [
        "print('Number of trainable variables = {}'.format(len(model.trainable_variables)))"
      ],
      "execution_count": null,
      "outputs": []
    },
    {
      "cell_type": "markdown",
      "metadata": {
        "id": "gnycI6tdzQZ7"
      },
      "source": [
        "# Memprediksi Citra Secara Individu"
      ]
    },
    {
      "cell_type": "code",
      "metadata": {
        "id": "fsFCpQoBLr5y"
      },
      "source": [
        "n = 74 #Jangan melampaui (nilai dari gambar test - 1)\n",
        "\n",
        "plt.imshow(X_test[n])\n",
        "plt.show()\n",
        "\n",
        "true_label = np.argmax(y_test2,axis=1)[n]\n",
        "print(\"Label yang benar adalah:\",true_label,\":\",labels[true_label])\n",
        "prediction = model.predict(X_test[n][np.newaxis,...])[0]\n",
        "print(\"Nilai yang diprediksi adalah:\",prediction)\n",
        "predicted_label = np.argmax(prediction)\n",
        "print(\"Label yang diprediksi adalah:\",predicted_label,\":\",labels[predicted_label])\n",
        "\n",
        "if true_label == predicted_label:\n",
        "    print(\"Prediksi benar\")\n",
        "else:\n",
        "    print(\"Prediksi salah\")"
      ],
      "execution_count": null,
      "outputs": []
    },
    {
      "cell_type": "markdown",
      "metadata": {
        "id": "-lf_8Nkxze14"
      },
      "source": [
        "# Confusion Matrix"
      ]
    },
    {
      "cell_type": "code",
      "metadata": {
        "id": "5Xp-a3UWzhdB",
        "colab": {
          "base_uri": "https://localhost:8080/",
          "height": 593
        },
        "outputId": "449e40f7-5cc5-4acd-b700-12c6df20c024"
      },
      "source": [
        "from sklearn.metrics import confusion_matrix\n",
        "from sklearn.utils.multiclass import unique_labels\n",
        "\n",
        "def plot_confusion_matrix(y_true, y_pred, classes,\n",
        "                          normalize=False,\n",
        "                          title=None,\n",
        "                          cmap=plt.cm.Blues):\n",
        "    \"\"\"\n",
        "    This function prints and plots the confusion matrix.\n",
        "    Normalization can be applied by setting `normalize=True`.\n",
        "    \"\"\"\n",
        "    if not title:\n",
        "        if normalize:\n",
        "            title = 'Normalized confusion matrix'\n",
        "        else:\n",
        "            title = 'Confusion matrix, without normalization'\n",
        "\n",
        "    # Compute confusion matrix\n",
        "    cm = confusion_matrix(y_true, y_pred)\n",
        "    # Only use the labels that appear in the data\n",
        "    #classes = classes[unique_labels(y_true, y_pred)]\n",
        "    if normalize:\n",
        "        cm = cm.astype('float') / cm.sum(axis=1)[:, np.newaxis]\n",
        "        print(\"Normalized confusion matrix\")\n",
        "    else:\n",
        "        print('Confusion matrix, without normalization')\n",
        "\n",
        "    print(cm)\n",
        "\n",
        "    fig, ax = plt.subplots(figsize=(5,5))\n",
        "    im = ax.imshow(cm, interpolation='nearest', cmap=cmap)\n",
        "    #ax.figure.colorbar(im, ax=ax)\n",
        "    # We want to show all ticks...\n",
        "    ax.set(xticks=np.arange(cm.shape[1]),\n",
        "           yticks=np.arange(cm.shape[0]),\n",
        "           # ... and label them with the respective list entries\n",
        "           xticklabels=classes, yticklabels=classes,\n",
        "           title=title,\n",
        "           ylabel='Truth',\n",
        "           xlabel='Prediction')\n",
        "\n",
        "    # Rotate the tick labels and set their alignment.\n",
        "    plt.setp(ax.get_xticklabels(), rotation=45, ha=\"right\",\n",
        "             rotation_mode=\"anchor\")\n",
        "\n",
        "    # Loop over data dimensions and create text annotations.\n",
        "    fmt = '.2f' if normalize else 'd'\n",
        "    thresh = cm.max() / 2.\n",
        "    for i in range(cm.shape[0]):\n",
        "        for j in range(cm.shape[1]):\n",
        "            ax.text(j, i, format(cm[i, j], fmt),\n",
        "                    ha=\"center\", va=\"center\",\n",
        "                    color=\"white\" if cm[i, j] > thresh else \"black\")\n",
        "    fig.tight_layout()\n",
        "    return ax\n",
        "\n",
        "\n",
        "np.set_printoptions(precision=2)\n",
        "\n",
        "plot_confusion_matrix(y_true, y_pred, classes=labels, normalize=True,\n",
        "                      title='Normalized confusion matrix')"
      ],
      "execution_count": 26,
      "outputs": [
        {
          "output_type": "stream",
          "text": [
            "Normalized confusion matrix\n",
            "[[0.79 0.21 0.  ]\n",
            " [0.03 0.95 0.03]\n",
            " [0.01 0.15 0.84]]\n"
          ],
          "name": "stdout"
        },
        {
          "output_type": "execute_result",
          "data": {
            "text/plain": [
              "<matplotlib.axes._subplots.AxesSubplot at 0x7f6781ac1fd0>"
            ]
          },
          "metadata": {
            "tags": []
          },
          "execution_count": 26
        },
        {
          "output_type": "display_data",
          "data": {
            "image/png": "[encoded data removed]",
            "text/plain": [
              "<Figure size 500x500 with 1 Axes>"
            ]
          },
          "metadata": {
            "tags": []
          }
        }
      ]
    },
    {
      "cell_type": "code",
      "metadata": {
        "id": "gpuFRWiBmat8"
      },
      "source": [
        "from sklearn.metrics import classification_report\n",
        "print (classification_report(y_true, y_pred))"
      ],
      "execution_count": null,
      "outputs": []
    },
    {
      "cell_type": "code",
      "metadata": {
        "colab": {
          "base_uri": "https://localhost:8080/"
        },
        "id": "0800SYRymc3T",
        "outputId": "877015cc-fece-4b76-edf7-fba67e8c82df"
      },
      "source": [
        "from sklearn.metrics import auc\n",
        "print (auc(y_true, y_pred))"
      ],
      "execution_count": 28,
      "outputs": [
        {
          "output_type": "stream",
          "text": [
            "2.0\n"
          ],
          "name": "stdout"
        }
      ]
    },
    {
      "cell_type": "markdown",
      "metadata": {
        "id": "eeYpuBBe-TzK"
      },
      "source": [
        "# Menyimpan dan mengkonversi Model ke \".tflite\""
      ]
    },
    {
      "cell_type": "code",
      "metadata": {
        "id": "8pKV3k8d-SJ-",
        "colab": {
          "base_uri": "https://localhost:8080/"
        },
        "outputId": "7224196e-e6c4-4e89-dbcd-c5b18c95347c"
      },
      "source": [
        "saved_model_dir = 'save/model'\n",
        "tf.saved_model.save(model, saved_model_dir)\n",
        "\n",
        "converter = tf.lite.TFLiteConverter.from_saved_model(saved_model_dir)\n",
        "tflite_model = converter.convert()\n",
        "\n",
        "with open('CTScans_for_Covid19_Classification_MobileNet.tflite', 'wb') as f:\n",
        "  f.write(tflite_model)"
      ],
      "execution_count": 29,
      "outputs": [
        {
          "output_type": "stream",
          "text": [
            "INFO:tensorflow:Assets written to: save/model/assets\n"
          ],
          "name": "stdout"
        }
      ]
    }
  ]
}
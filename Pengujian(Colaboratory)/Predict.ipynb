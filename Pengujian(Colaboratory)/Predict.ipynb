{
  "nbformat": 4,
  "nbformat_minor": 0,
  "metadata": {
    "kernelspec": {
      "display_name": "PythonData",
      "language": "python",
      "name": "pythondata"
    },
    "language_info": {
      "codemirror_mode": {
        "name": "ipython",
        "version": 3
      },
      "file_extension": ".py",
      "mimetype": "text/x-python",
      "name": "python",
      "nbconvert_exporter": "python",
      "pygments_lexer": "ipython3",
      "version": "3.7.7"
    },
    "colab": {
      "name": "Model_predictionV.2.2.ipynb",
      "provenance": [],
      "collapsed_sections": [],
      "toc_visible": true
    }
  },
  "cells": [
    {
      "cell_type": "markdown",
      "metadata": {
        "id": "wULv8FlGbuwO"
      },
      "source": [
        "# Import library"
      ]
    },
    {
      "cell_type": "code",
      "metadata": {
        "id": "7oDRIeOKYNpx"
      },
      "source": [
        "import os\n",
        "import numpy as np\n",
        "import matplotlib.pyplot as plt\n",
        "import tensorflow as tf\n",
        "from tensorflow.keras.preprocessing.image import ImageDataGenerator, array_to_img, img_to_array, load_img"
      ],
      "execution_count": null,
      "outputs": []
    },
    {
      "cell_type": "markdown",
      "metadata": {
        "id": "_o2qIWJIbyj0"
      },
      "source": [
        "# Import dataset from Google Drive"
      ]
    },
    {
      "cell_type": "code",
      "metadata": {
        "colab": {
          "base_uri": "https://localhost:8080/"
        },
        "id": "FuOTL8P7Yjyg",
        "outputId": "2f0fe224-f71f-49ac-decc-2225815a4d32"
      },
      "source": [
        "from google.colab import drive\n",
        "drive.mount('/content/gdrive')"
      ],
      "execution_count": null,
      "outputs": [
        {
          "output_type": "stream",
          "text": [
            "Mounted at /content/gdrive\n"
          ],
          "name": "stdout"
        }
      ]
    },
    {
      "cell_type": "markdown",
      "metadata": {
        "id": "wQGlHS0jb5PW"
      },
      "source": [
        "# Load model"
      ]
    },
    {
      "cell_type": "code",
      "metadata": {
        "colab": {
          "base_uri": "https://localhost:8080/"
        },
        "id": "Ohqv0KbOYNp6",
        "outputId": "fc4b9911-f8cc-4de2-a9fd-e3ac02987ee9"
      },
      "source": [
        "# load saved model and try predictions\n",
        "\n",
        "# load CT model\n",
        "CT_model = tf.keras.models.load_model('/content/gdrive/Shareddrives/Soedirman-Machine-Learning/CT SCAN COVID-19/Model/model_CT.h5')\n",
        "CT_model.layers[0].input_shape\n",
        "\n",
        "# load risk model\n",
        "risk_model = tf.keras.models.load_model('/content/gdrive/Shareddrives/Soedirman-Machine-Learning/CT SCAN COVID-19/Model/risk.h5')\n",
        "risk_model.layers[0].input_shape\n",
        "\n",
        "# load mortality model\n",
        "mor_model = tf.keras.models.load_model('/content/gdrive/Shareddrives/Soedirman-Machine-Learning/CT SCAN COVID-19/Model/mor.h5')\n",
        "mor_model.layers[0].input_shape\n",
        "\n",
        "# load covid positivity model\n",
        "CP_model = tf.keras.models.load_model('/content/gdrive/Shareddrives/Soedirman-Machine-Learning/CT SCAN COVID-19/Model/CP.h5')\n",
        "CP_model.layers[0].input_shape\n",
        "\n"
      ],
      "execution_count": null,
      "outputs": [
        {
          "output_type": "execute_result",
          "data": {
            "text/plain": [
              "(None, 224, 224, 3)"
            ]
          },
          "metadata": {
            "tags": []
          },
          "execution_count": 3
        }
      ]
    },
    {
      "cell_type": "markdown",
      "metadata": {
        "id": "8RiGYeyTb-Yj"
      },
      "source": [
        "# Use model to predict image"
      ]
    },
    {
      "cell_type": "code",
      "metadata": {
        "colab": {
          "base_uri": "https://localhost:8080/",
          "height": 444
        },
        "id": "9M8eX7Vu1Aty",
        "outputId": "330216da-6a36-440c-9308-0e690ace50f2"
      },
      "source": [
        "# image prediction\n",
        "img1 = os.path.join('/content/gdrive/Shareddrives/Soedirman-Machine-Learning/CT SCAN COVID-19/CT/Pre-processed/pCT/pCT106.jpg' )\n",
        "\n",
        "\n",
        "img_CT = load_img(img1, target_size=(224, 224))\n",
        "x = img_to_array(img_CT)\n",
        "x = np.expand_dims(x, axis=0)\n",
        "images = np.vstack([x])\n",
        "\n",
        "\n",
        "# Perform prediction\n",
        "\n",
        "# Predict image CT \n",
        "classes_LP = [\"NiCT\", \"nCT\", \"pCT\"]\n",
        "predictions_LP = CT_model.predict_classes(images, batch_size=10)\n",
        "prob_LP = CT_model.predict_proba(images)\n",
        "\n",
        "classes_CP = [\"Negative\", \"Positive\"]\n",
        "predictions_CP = CP_model.predict_classes(images, batch_size=10)\n",
        "prob_CP = CP_model.predict_proba(images)\n",
        "\n",
        "classes_mor = [\"Cured\", \"Deceased\", \"Unknown\"]\n",
        "predictions_mor = mor_model.predict_classes(images, batch_size=10)\n",
        "prob_mor = mor_model.predict_proba(images)\n",
        "\n",
        "classes_risk = [\"Control\", \"Type I\", \"Type II\"]\n",
        "predictions_risk = risk_model.predict_classes(images, batch_size=10)\n",
        "prob_risk = risk_model.predict_proba(images)\n",
        "\n",
        "# display image and prediction\n",
        "plt.figure()\n",
        "plt.subplot(121)\n",
        "plt.title(\"Image CT Prediction\") \n",
        "plt.imshow(img_CT)\n",
        "\n",
        "if predictions_LP == 2 and predictions_CP == 1:\n",
        "  print(\"Lung Parenchyma Predicted class: \" + str(classes_LP[predictions_LP[0]]))\n",
        "  print(\"Nilai probabilitasnya adalah:\",prob_LP)\n",
        "  print(\"Covid Positivity Predicted class: \" + str(classes_CP[predictions_CP[0]]))\n",
        "  print(\"Nilai probabilitasnya adalah:\",prob_CP)\n",
        "  print(\"Risk Predicted class: \" + str(classes_risk[predictions_risk[0]]))\n",
        "  print(\"Nilai probabilitasnya adalah:\",prob_risk)\n",
        "  print(\"Mortality Predicted class: \" + str(classes_mor[predictions_mor[0]]))\n",
        "  print(\"Nilai probabilitasnya adalah:\",prob_mor)\n",
        "elif predictions_LP == 2 and predictions_CP == 0:\n",
        "  print(\"Lung Parenchyma Predicted class: \" + str(classes_LP[predictions_LP[0]]))\n",
        "  print(\"Nilai probabilitasnya adalah:\",prob_LP)\n",
        "  print(\"Covid Positivity Predicted class: \" + str(classes_CP[predictions_CP[0]]))\n",
        "  print(\"Nilai probabilitasnya adalah:\",prob_CP)\n",
        "elif predictions_LP == 0 or predictions_LP == 1:\n",
        "  print(\"Lung Parenchyma Predicted class: \" + str(classes_LP[predictions_LP[0]]))\n",
        "  print(\"Nilai probabilitasnya adalah:\",prob_LP)\n",
        "return images\n"
      ],
      "execution_count": null,
      "outputs": [
        {
          "output_type": "stream",
          "text": [
            "/usr/local/lib/python3.7/dist-packages/tensorflow/python/keras/engine/sequential.py:450: UserWarning: `model.predict_classes()` is deprecated and will be removed after 2021-01-01. Please use instead:* `np.argmax(model.predict(x), axis=-1)`,   if your model does multi-class classification   (e.g. if it uses a `softmax` last-layer activation).* `(model.predict(x) > 0.5).astype(\"int32\")`,   if your model does binary classification   (e.g. if it uses a `sigmoid` last-layer activation).\n",
            "  warnings.warn('`model.predict_classes()` is deprecated and '\n",
            "/usr/local/lib/python3.7/dist-packages/tensorflow/python/keras/engine/sequential.py:425: UserWarning: `model.predict_proba()` is deprecated and will be removed after 2021-01-01. Please use `model.predict()` instead.\n",
            "  warnings.warn('`model.predict_proba()` is deprecated and '\n"
          ],
          "name": "stderr"
        },
        {
          "output_type": "stream",
          "text": [
            "Lung Parenchyma Predicted class: pCT\n",
            "Nilai probabilitasnya adalah: [[0.0000000e+00 1.5534836e-12 1.0000000e+00]]\n",
            "Covid Positivity Predicted class: Positive\n",
            "Nilai probabilitasnya adalah: [[8.3221983e-07 9.9999917e-01]]\n",
            "Risk Predicted class: Control\n",
            "Nilai probabilitasnya adalah: [[1. 0. 0.]]\n",
            "Mortality Predicted class: Unknown\n",
            "Nilai probabilitasnya adalah: [[5.4329775e-27 0.0000000e+00 1.0000000e+00]]\n"
          ],
          "name": "stdout"
        },
        {
          "output_type": "display_data",
          "data": {
            "image/png": "[encoded data removed]",
            "text/plain": [
              "<Figure size 432x288 with 1 Axes>"
            ]
          },
          "metadata": {
            "tags": [],
            "needs_background": "light"
          }
        }
      ]
    }
  ]
}
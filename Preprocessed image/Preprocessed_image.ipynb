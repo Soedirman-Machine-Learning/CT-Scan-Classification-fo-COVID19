{
  "nbformat": 4,
  "nbformat_minor": 0,
  "metadata": {
    "colab": {
      "name": "Preprocessed_image.ipynb",
      "provenance": []
    },
    "kernelspec": {
      "name": "python3",
      "display_name": "Python 3"
    },
    "language_info": {
      "name": "python"
    },
    "accelerator": "GPU"
  },
  "cells": [
    {
      "cell_type": "code",
      "metadata": {
        "id": "kNcKznFNQ_QS"
      },
      "source": [
        "import os\n",
        "import cv2 \n",
        "import numpy as np\n",
        "import pandas as pd\n",
        "import skimage\n",
        "from skimage import measure\n",
        "from collections import Counter"
      ],
      "execution_count": 1,
      "outputs": []
    },
    {
      "cell_type": "code",
      "metadata": {
        "colab": {
          "base_uri": "https://localhost:8080/"
        },
        "id": "25EGqA4BR7jD",
        "outputId": "af31aeff-fe27-4311-d1a4-03521528c1b6"
      },
      "source": [
        "from google.colab import drive\n",
        "drive.mount('/content/gdrive')"
      ],
      "execution_count": 2,
      "outputs": [
        {
          "output_type": "stream",
          "name": "stdout",
          "text": [
            "Mounted at /content/gdrive\n"
          ]
        }
      ]
    },
    {
      "cell_type": "code",
      "metadata": {
        "id": "b6D5RSW5R8UR"
      },
      "source": [
        "target_dir='/content/gdrive/Shareddrives/Soedirman-Machine-Learning/CT SCAN COVID-19/Data Uji/Original/Risk/Type II'\n",
        "output_dir='/content/gdrive/Shareddrives/Soedirman-Machine-Learning/CT SCAN COVID-19/Data Uji/Preprocessed/Risk/Type II'"
      ],
      "execution_count": 53,
      "outputs": []
    },
    {
      "cell_type": "code",
      "metadata": {
        "id": "PHD7-Q6hRioe"
      },
      "source": [
        "def split_target_dir(target_dir,output_dir):\n",
        "    target_list=[target_dir+os.sep+file for file in os.listdir(target_dir)]\n",
        "    for target in target_list:\n",
        "        img_split=split_lung_parenchyma(target,15599,-96)\n",
        "        dst=target.replace(target_dir,output_dir)\n",
        "        dst_dir=os.path.split(dst)[0]\n",
        "        if not os.path.exists(dst_dir):\n",
        "            os.makedirs(dst_dir)\n",
        "        cv2.imencode('.jpg', img_split)[1].tofile(dst)\n",
        "    print(f'Target list done with {len(target_list)} items')"
      ],
      "execution_count": 55,
      "outputs": []
    },
    {
      "cell_type": "code",
      "metadata": {
        "id": "-jEWIn2JRk83"
      },
      "source": [
        "\n",
        "def split_lung_parenchyma(target,size,thr):\n",
        "    img=cv2.imdecode(np.fromfile(target,dtype=np.uint8),cv2.IMREAD_GRAYSCALE)\n",
        "    try:\n",
        "        img_thr= cv2.adaptiveThreshold(img, 255, cv2.ADAPTIVE_THRESH_MEAN_C, cv2.THRESH_BINARY_INV,size,thr).astype(np.uint8)\n",
        "    except:\n",
        "        img_thr= cv2.adaptiveThreshold(img, 255, cv2.ADAPTIVE_THRESH_MEAN_C, cv2.THRESH_BINARY_INV,999,thr).astype(np.uint8)\n",
        "    img_thr=255-img_thr\n",
        "    img_test=measure.label(img_thr, connectivity = 1)\n",
        "    props = measure.regionprops(img_test)\n",
        "    img_test.max()\n",
        "    areas=[prop.area for prop in props]\n",
        "    ind_max_area=np.argmax(areas)+1\n",
        "    del_array = np.zeros(img_test.max()+1)\n",
        "    del_array[ind_max_area]=1\n",
        "    del_mask=del_array[img_test]\n",
        "    img_new = img_thr*del_mask\n",
        "    mask_fill=fill_water(img_new)\n",
        "    img_new[mask_fill==1]=255\n",
        "    img_new = 255-img_new\n",
        "    _, labels, stats, centroids = cv2.connectedComponentsWithStats(img_new.astype( np.uint8 ))\n",
        "    labels = np.array(labels, dtype=np.float)\n",
        "    maxnum = Counter(labels.flatten()).most_common(3)\n",
        "    maxnum = sorted([x[0] for x in maxnum])\n",
        "    background = np.zeros_like(labels)\n",
        "    if len(maxnum) == 1:\n",
        "        pass\n",
        "    elif len(maxnum) == 2:\n",
        "        background[labels == maxnum[1]] = 1\n",
        "    else:\n",
        "        background[labels == maxnum[1]] = 1\n",
        "        background[labels == maxnum[2]] = 1\n",
        "    img_new[background == 0] = 0\n",
        "    img_new=cv2.dilate(img_new, np.ones((5,5),np.uint8) , iterations=3)\n",
        "    img_new = cv2.erode(img_new, np.ones((5, 5), np.uint8), iterations=2)\n",
        "    img_new = cv2.morphologyEx(img_new, cv2.MORPH_CLOSE, cv2.getStructuringElement(cv2.MORPH_RECT, (10, 10)),iterations=2)\n",
        "    img_new = cv2.medianBlur(img_new.astype(np.uint8), 21)\n",
        "    img_out=img*img_new.astype(bool)\n",
        "    return img_out"
      ],
      "execution_count": 56,
      "outputs": []
    },
    {
      "cell_type": "code",
      "metadata": {
        "colab": {
          "base_uri": "https://localhost:8080/"
        },
        "id": "1j7_FoCQRxtz",
        "outputId": "d951cb18-8705-48f3-e4a2-a2ea90a24367"
      },
      "source": [
        "def fill_water(img):\n",
        "    copyimg = img.copy()\n",
        "    copyimg.astype(np.float32)\n",
        "    height, width = img.shape\n",
        "    img_exp=np.zeros((height+20,width+20))\n",
        "    height_exp, width_exp = img_exp.shape\n",
        "    img_exp[10:-10, 10:-10]=copyimg\n",
        "    mask1 = np.zeros([height+22, width+22],np.uint8)   \n",
        "    mask2 = mask1.copy()\n",
        "    mask3 = mask1.copy()\n",
        "    mask4 = mask1.copy()\n",
        "    cv2.floodFill(np.float32(img_exp), mask1, (0, 0), 1) \n",
        "    cv2.floodFill(np.float32(img_exp), mask2, (width_exp-1,height_exp-1), 1)\n",
        "    cv2.floodFill(np.float32(img_exp), mask3, (width_exp-1, 0), 1)\n",
        "    cv2.floodFill(np.float32(img_exp), mask4, (0, height_exp-1), 1)\n",
        "    mask = mask1 | mask2 | mask3 | mask4\n",
        "    output = mask[1:-1, 1:-1][10:-10, 10:-10]\n",
        "    return output\n",
        "\n",
        "\n",
        "split_target_dir(target_dir,output_dir)\n",
        "\n",
        "\n"
      ],
      "execution_count": 57,
      "outputs": [
        {
          "output_type": "stream",
          "name": "stdout",
          "text": [
            "Target list done with 10 items\n"
          ]
        }
      ]
    }
  ]
}